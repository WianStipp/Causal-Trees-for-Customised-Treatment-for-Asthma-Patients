{
 "cells": [
  {
   "cell_type": "markdown",
   "metadata": {},
   "source": [
    "### $\\textbf{QuantCo Causal Inference Project}$\n",
    "##### Wian Stipp"
   ]
  },
  {
   "cell_type": "markdown",
   "metadata": {},
   "source": [
    "### Describing The Problem:\n",
    "\n",
    "We are using a study to compare the quality of services provided by two physician groups for asthma patients in California. Let $Y_i(z)$ be the score (1 = satisfactory, 0 = non-satisfactory) given by patient $i$ for the treatment recieved by physician  group $z \\in \\{1,2\\}$ \n",
    "Besides the treatment variable and the outcome variable we have a list of covariates: 'age', 'sex', 'education', 'insurance', 'drug coverage', 'severity', 'comorbidity', 'physical comorbidity', 'mental comorbidity'.\n",
    "\n",
    "Comorbidity is defined as: the presence of one or more additional conditions co-occurring with a primary condition; in the countable sense of the term, a comorbidity is each additional condition. The additional condition may also be a behavioral or mental disorder.\n",
    "\n",
    "We assume the treatment assignment is ignorable conditional on all the pretreatment variables\n",
    "\n",
    "#### The Objective\n",
    "\n",
    "We are using a study to compare the quality of services provided by two physician groups for asthma patients in California. Our objective is to find the average treatment (causal) effect of each physician compared to the other. That is if $p_z$ is the fraction of patients that would be satisfied with the service of $z$ if all patients were treated by the same, then we want to find $p_1 - p_2$.\n",
    "\n",
    "here is, however, a more interesting insight we can find; We can find which types of people would be more satisified with each of the physician groups. This is a problem known as heterogeneous treatment effect (HTE) estimation. In this project, we will explore how a causal tree-based learning method can find heterogeneity in the treatment effects.\n",
    "\n",
    "\n",
    "#### The Data\n",
    "\n",
    "The data is sourced from http://www.biostat.jhsph.edu/~cfrangak/biostat_causal/asthma.txt. We are going to split the data into a training, validation and testing subset such that we can test the model on out-of-sample data.\n",
    "\n",
    "#### The Model\n",
    "\n",
    "We are primarily using the work published 2019: \"Learning Triggers for Heterogeneous Treatment Effects\" by Christopher Tran and Elena Zheleva."
   ]
  },
  {
   "cell_type": "markdown",
   "metadata": {},
   "source": [
    "# The Project"
   ]
  },
  {
   "cell_type": "markdown",
   "metadata": {},
   "source": [
    "## Data Visualisation and Preparation"
   ]
  },
  {
   "cell_type": "markdown",
   "metadata": {},
   "source": [
    "We first start off by importing the relevant data and packages we will be using."
   ]
  },
  {
   "cell_type": "code",
   "execution_count": 183,
   "metadata": {},
   "outputs": [],
   "source": [
    "import numpy as np\n",
    "import pandas as pd\n",
    "import matplotlib.pyplot as plt\n",
    "%matplotlib inline"
   ]
  },
  {
   "cell_type": "code",
   "execution_count": 184,
   "metadata": {},
   "outputs": [],
   "source": [
    "dataframe = pd.read_csv('data/asthma.txt', delimiter=' ', index_col=None)"
   ]
  },
  {
   "cell_type": "markdown",
   "metadata": {},
   "source": [
    "Let's explore the data a little bit"
   ]
  },
  {
   "cell_type": "code",
   "execution_count": 185,
   "metadata": {},
   "outputs": [
    {
     "data": {
      "text/html": [
       "<div>\n",
       "<style scoped>\n",
       "    .dataframe tbody tr th:only-of-type {\n",
       "        vertical-align: middle;\n",
       "    }\n",
       "\n",
       "    .dataframe tbody tr th {\n",
       "        vertical-align: top;\n",
       "    }\n",
       "\n",
       "    .dataframe thead th {\n",
       "        text-align: right;\n",
       "    }\n",
       "</style>\n",
       "<table border=\"1\" class=\"dataframe\">\n",
       "  <thead>\n",
       "    <tr style=\"text-align: right;\">\n",
       "      <th></th>\n",
       "      <th>pg</th>\n",
       "      <th>i.age</th>\n",
       "      <th>i.sex</th>\n",
       "      <th>i.educ</th>\n",
       "      <th>i.insu</th>\n",
       "      <th>i.drug</th>\n",
       "      <th>i.seve</th>\n",
       "      <th>com.t</th>\n",
       "      <th>pcs.sd</th>\n",
       "      <th>mcs.sd</th>\n",
       "      <th>i.aqoc</th>\n",
       "    </tr>\n",
       "  </thead>\n",
       "  <tbody>\n",
       "    <tr>\n",
       "      <th>0</th>\n",
       "      <td>1</td>\n",
       "      <td>36</td>\n",
       "      <td>0</td>\n",
       "      <td>5</td>\n",
       "      <td>1</td>\n",
       "      <td>1</td>\n",
       "      <td>2</td>\n",
       "      <td>4</td>\n",
       "      <td>49.97533</td>\n",
       "      <td>49.57280</td>\n",
       "      <td>1</td>\n",
       "    </tr>\n",
       "    <tr>\n",
       "      <th>1</th>\n",
       "      <td>1</td>\n",
       "      <td>37</td>\n",
       "      <td>1</td>\n",
       "      <td>6</td>\n",
       "      <td>2</td>\n",
       "      <td>1</td>\n",
       "      <td>3</td>\n",
       "      <td>3</td>\n",
       "      <td>40.93979</td>\n",
       "      <td>56.11393</td>\n",
       "      <td>1</td>\n",
       "    </tr>\n",
       "    <tr>\n",
       "      <th>2</th>\n",
       "      <td>1</td>\n",
       "      <td>43</td>\n",
       "      <td>1</td>\n",
       "      <td>5</td>\n",
       "      <td>1</td>\n",
       "      <td>1</td>\n",
       "      <td>4</td>\n",
       "      <td>3</td>\n",
       "      <td>50.32495</td>\n",
       "      <td>57.11961</td>\n",
       "      <td>1</td>\n",
       "    </tr>\n",
       "    <tr>\n",
       "      <th>3</th>\n",
       "      <td>1</td>\n",
       "      <td>39</td>\n",
       "      <td>1</td>\n",
       "      <td>6</td>\n",
       "      <td>1</td>\n",
       "      <td>1</td>\n",
       "      <td>4</td>\n",
       "      <td>1</td>\n",
       "      <td>49.34402</td>\n",
       "      <td>49.65159</td>\n",
       "      <td>1</td>\n",
       "    </tr>\n",
       "    <tr>\n",
       "      <th>4</th>\n",
       "      <td>1</td>\n",
       "      <td>46</td>\n",
       "      <td>1</td>\n",
       "      <td>1</td>\n",
       "      <td>2</td>\n",
       "      <td>1</td>\n",
       "      <td>4</td>\n",
       "      <td>0</td>\n",
       "      <td>37.37425</td>\n",
       "      <td>52.95411</td>\n",
       "      <td>0</td>\n",
       "    </tr>\n",
       "  </tbody>\n",
       "</table>\n",
       "</div>"
      ],
      "text/plain": [
       "   pg  i.age  i.sex  i.educ  i.insu  i.drug  i.seve  com.t    pcs.sd  \\\n",
       "0   1     36      0       5       1       1       2      4  49.97533   \n",
       "1   1     37      1       6       2       1       3      3  40.93979   \n",
       "2   1     43      1       5       1       1       4      3  50.32495   \n",
       "3   1     39      1       6       1       1       4      1  49.34402   \n",
       "4   1     46      1       1       2       1       4      0  37.37425   \n",
       "\n",
       "     mcs.sd  i.aqoc  \n",
       "0  49.57280       1  \n",
       "1  56.11393       1  \n",
       "2  57.11961       1  \n",
       "3  49.65159       1  \n",
       "4  52.95411       0  "
      ]
     },
     "execution_count": 185,
     "metadata": {},
     "output_type": "execute_result"
    }
   ],
   "source": [
    "dataframe.head()"
   ]
  },
  {
   "cell_type": "code",
   "execution_count": 186,
   "metadata": {},
   "outputs": [
    {
     "data": {
      "text/html": [
       "<div>\n",
       "<style scoped>\n",
       "    .dataframe tbody tr th:only-of-type {\n",
       "        vertical-align: middle;\n",
       "    }\n",
       "\n",
       "    .dataframe tbody tr th {\n",
       "        vertical-align: top;\n",
       "    }\n",
       "\n",
       "    .dataframe thead th {\n",
       "        text-align: right;\n",
       "    }\n",
       "</style>\n",
       "<table border=\"1\" class=\"dataframe\">\n",
       "  <thead>\n",
       "    <tr style=\"text-align: right;\">\n",
       "      <th></th>\n",
       "      <th>pg</th>\n",
       "      <th>i.age</th>\n",
       "      <th>i.sex</th>\n",
       "      <th>i.educ</th>\n",
       "      <th>i.insu</th>\n",
       "      <th>i.drug</th>\n",
       "      <th>i.seve</th>\n",
       "      <th>com.t</th>\n",
       "      <th>pcs.sd</th>\n",
       "      <th>mcs.sd</th>\n",
       "      <th>i.aqoc</th>\n",
       "    </tr>\n",
       "  </thead>\n",
       "  <tbody>\n",
       "    <tr>\n",
       "      <th>count</th>\n",
       "      <td>276.000000</td>\n",
       "      <td>276.000000</td>\n",
       "      <td>276.000000</td>\n",
       "      <td>276.000000</td>\n",
       "      <td>276.000000</td>\n",
       "      <td>276.000000</td>\n",
       "      <td>276.000000</td>\n",
       "      <td>276.000000</td>\n",
       "      <td>276.000000</td>\n",
       "      <td>276.000000</td>\n",
       "      <td>276.000000</td>\n",
       "    </tr>\n",
       "    <tr>\n",
       "      <th>mean</th>\n",
       "      <td>1.623188</td>\n",
       "      <td>39.960145</td>\n",
       "      <td>0.699275</td>\n",
       "      <td>4.818841</td>\n",
       "      <td>1.478261</td>\n",
       "      <td>0.981884</td>\n",
       "      <td>2.615942</td>\n",
       "      <td>2.173913</td>\n",
       "      <td>45.649891</td>\n",
       "      <td>48.588685</td>\n",
       "      <td>0.673913</td>\n",
       "    </tr>\n",
       "    <tr>\n",
       "      <th>std</th>\n",
       "      <td>0.485467</td>\n",
       "      <td>8.790193</td>\n",
       "      <td>0.459406</td>\n",
       "      <td>0.970365</td>\n",
       "      <td>0.908284</td>\n",
       "      <td>0.133613</td>\n",
       "      <td>0.924986</td>\n",
       "      <td>1.454338</td>\n",
       "      <td>10.227349</td>\n",
       "      <td>9.785507</td>\n",
       "      <td>0.469631</td>\n",
       "    </tr>\n",
       "    <tr>\n",
       "      <th>min</th>\n",
       "      <td>1.000000</td>\n",
       "      <td>19.000000</td>\n",
       "      <td>0.000000</td>\n",
       "      <td>1.000000</td>\n",
       "      <td>1.000000</td>\n",
       "      <td>0.000000</td>\n",
       "      <td>1.000000</td>\n",
       "      <td>0.000000</td>\n",
       "      <td>9.176023</td>\n",
       "      <td>13.458770</td>\n",
       "      <td>0.000000</td>\n",
       "    </tr>\n",
       "    <tr>\n",
       "      <th>25%</th>\n",
       "      <td>1.000000</td>\n",
       "      <td>34.000000</td>\n",
       "      <td>0.000000</td>\n",
       "      <td>4.000000</td>\n",
       "      <td>1.000000</td>\n",
       "      <td>1.000000</td>\n",
       "      <td>2.000000</td>\n",
       "      <td>1.000000</td>\n",
       "      <td>39.905275</td>\n",
       "      <td>43.790342</td>\n",
       "      <td>0.000000</td>\n",
       "    </tr>\n",
       "    <tr>\n",
       "      <th>50%</th>\n",
       "      <td>2.000000</td>\n",
       "      <td>40.000000</td>\n",
       "      <td>1.000000</td>\n",
       "      <td>5.000000</td>\n",
       "      <td>1.000000</td>\n",
       "      <td>1.000000</td>\n",
       "      <td>3.000000</td>\n",
       "      <td>2.000000</td>\n",
       "      <td>47.586820</td>\n",
       "      <td>50.667165</td>\n",
       "      <td>1.000000</td>\n",
       "    </tr>\n",
       "    <tr>\n",
       "      <th>75%</th>\n",
       "      <td>2.000000</td>\n",
       "      <td>47.000000</td>\n",
       "      <td>1.000000</td>\n",
       "      <td>6.000000</td>\n",
       "      <td>2.000000</td>\n",
       "      <td>1.000000</td>\n",
       "      <td>3.000000</td>\n",
       "      <td>3.000000</td>\n",
       "      <td>53.696978</td>\n",
       "      <td>56.036845</td>\n",
       "      <td>1.000000</td>\n",
       "    </tr>\n",
       "    <tr>\n",
       "      <th>max</th>\n",
       "      <td>2.000000</td>\n",
       "      <td>55.000000</td>\n",
       "      <td>1.000000</td>\n",
       "      <td>6.000000</td>\n",
       "      <td>5.000000</td>\n",
       "      <td>1.000000</td>\n",
       "      <td>4.000000</td>\n",
       "      <td>9.000000</td>\n",
       "      <td>65.338440</td>\n",
       "      <td>65.496670</td>\n",
       "      <td>1.000000</td>\n",
       "    </tr>\n",
       "  </tbody>\n",
       "</table>\n",
       "</div>"
      ],
      "text/plain": [
       "               pg       i.age       i.sex      i.educ      i.insu      i.drug  \\\n",
       "count  276.000000  276.000000  276.000000  276.000000  276.000000  276.000000   \n",
       "mean     1.623188   39.960145    0.699275    4.818841    1.478261    0.981884   \n",
       "std      0.485467    8.790193    0.459406    0.970365    0.908284    0.133613   \n",
       "min      1.000000   19.000000    0.000000    1.000000    1.000000    0.000000   \n",
       "25%      1.000000   34.000000    0.000000    4.000000    1.000000    1.000000   \n",
       "50%      2.000000   40.000000    1.000000    5.000000    1.000000    1.000000   \n",
       "75%      2.000000   47.000000    1.000000    6.000000    2.000000    1.000000   \n",
       "max      2.000000   55.000000    1.000000    6.000000    5.000000    1.000000   \n",
       "\n",
       "           i.seve       com.t      pcs.sd      mcs.sd      i.aqoc  \n",
       "count  276.000000  276.000000  276.000000  276.000000  276.000000  \n",
       "mean     2.615942    2.173913   45.649891   48.588685    0.673913  \n",
       "std      0.924986    1.454338   10.227349    9.785507    0.469631  \n",
       "min      1.000000    0.000000    9.176023   13.458770    0.000000  \n",
       "25%      2.000000    1.000000   39.905275   43.790342    0.000000  \n",
       "50%      3.000000    2.000000   47.586820   50.667165    1.000000  \n",
       "75%      3.000000    3.000000   53.696978   56.036845    1.000000  \n",
       "max      4.000000    9.000000   65.338440   65.496670    1.000000  "
      ]
     },
     "execution_count": 186,
     "metadata": {},
     "output_type": "execute_result"
    }
   ],
   "source": [
    "dataframe.describe()"
   ]
  },
  {
   "cell_type": "code",
   "execution_count": 187,
   "metadata": {
    "scrolled": false
   },
   "outputs": [
    {
     "name": "stdout",
     "output_type": "stream",
     "text": [
      "<class 'pandas.core.frame.DataFrame'>\n",
      "RangeIndex: 276 entries, 0 to 275\n",
      "Data columns (total 11 columns):\n",
      "pg        276 non-null int64\n",
      "i.age     276 non-null int64\n",
      "i.sex     276 non-null int64\n",
      "i.educ    276 non-null int64\n",
      "i.insu    276 non-null int64\n",
      "i.drug    276 non-null int64\n",
      "i.seve    276 non-null int64\n",
      "com.t     276 non-null int64\n",
      "pcs.sd    276 non-null float64\n",
      "mcs.sd    276 non-null float64\n",
      "i.aqoc    276 non-null int64\n",
      "dtypes: float64(2), int64(9)\n",
      "memory usage: 23.8 KB\n"
     ]
    }
   ],
   "source": [
    "dataframe.info()"
   ]
  },
  {
   "cell_type": "code",
   "execution_count": 188,
   "metadata": {},
   "outputs": [
    {
     "data": {
      "image/png": "[encoded data removed]",
      "text/plain": [
       "<Figure size 1440x1080 with 12 Axes>"
      ]
     },
     "metadata": {
      "needs_background": "light"
     },
     "output_type": "display_data"
    }
   ],
   "source": [
    "import matplotlib.pyplot as plt\n",
    "dataframe.hist(bins=50, figsize=(20,15))\n",
    "plt.show()"
   ]
  },
  {
   "cell_type": "markdown",
   "metadata": {},
   "source": [
    "It seems like the covariate i.drug is heavily imbalanced and so won't add much value to our model (apart from making us more likely to overfit), and therefore we can discard it.\n",
    "\n",
    "Besides that, the rest of the data looks well distributed with a few covariates taking a log-normal looking shape."
   ]
  },
  {
   "cell_type": "code",
   "execution_count": 189,
   "metadata": {},
   "outputs": [],
   "source": [
    "dataframe = dataframe.drop([\"i.drug\"], axis=1)"
   ]
  },
  {
   "cell_type": "code",
   "execution_count": 190,
   "metadata": {},
   "outputs": [
    {
     "data": {
      "text/html": [
       "<div>\n",
       "<style scoped>\n",
       "    .dataframe tbody tr th:only-of-type {\n",
       "        vertical-align: middle;\n",
       "    }\n",
       "\n",
       "    .dataframe tbody tr th {\n",
       "        vertical-align: top;\n",
       "    }\n",
       "\n",
       "    .dataframe thead th {\n",
       "        text-align: right;\n",
       "    }\n",
       "</style>\n",
       "<table border=\"1\" class=\"dataframe\">\n",
       "  <thead>\n",
       "    <tr style=\"text-align: right;\">\n",
       "      <th></th>\n",
       "      <th>pg</th>\n",
       "      <th>i.age</th>\n",
       "      <th>i.sex</th>\n",
       "      <th>i.educ</th>\n",
       "      <th>i.insu</th>\n",
       "      <th>i.seve</th>\n",
       "      <th>com.t</th>\n",
       "      <th>pcs.sd</th>\n",
       "      <th>mcs.sd</th>\n",
       "      <th>i.aqoc</th>\n",
       "    </tr>\n",
       "  </thead>\n",
       "  <tbody>\n",
       "    <tr>\n",
       "      <th>0</th>\n",
       "      <td>1</td>\n",
       "      <td>36</td>\n",
       "      <td>0</td>\n",
       "      <td>5</td>\n",
       "      <td>1</td>\n",
       "      <td>2</td>\n",
       "      <td>4</td>\n",
       "      <td>49.97533</td>\n",
       "      <td>49.57280</td>\n",
       "      <td>1</td>\n",
       "    </tr>\n",
       "    <tr>\n",
       "      <th>1</th>\n",
       "      <td>1</td>\n",
       "      <td>37</td>\n",
       "      <td>1</td>\n",
       "      <td>6</td>\n",
       "      <td>2</td>\n",
       "      <td>3</td>\n",
       "      <td>3</td>\n",
       "      <td>40.93979</td>\n",
       "      <td>56.11393</td>\n",
       "      <td>1</td>\n",
       "    </tr>\n",
       "    <tr>\n",
       "      <th>2</th>\n",
       "      <td>1</td>\n",
       "      <td>43</td>\n",
       "      <td>1</td>\n",
       "      <td>5</td>\n",
       "      <td>1</td>\n",
       "      <td>4</td>\n",
       "      <td>3</td>\n",
       "      <td>50.32495</td>\n",
       "      <td>57.11961</td>\n",
       "      <td>1</td>\n",
       "    </tr>\n",
       "    <tr>\n",
       "      <th>3</th>\n",
       "      <td>1</td>\n",
       "      <td>39</td>\n",
       "      <td>1</td>\n",
       "      <td>6</td>\n",
       "      <td>1</td>\n",
       "      <td>4</td>\n",
       "      <td>1</td>\n",
       "      <td>49.34402</td>\n",
       "      <td>49.65159</td>\n",
       "      <td>1</td>\n",
       "    </tr>\n",
       "    <tr>\n",
       "      <th>4</th>\n",
       "      <td>1</td>\n",
       "      <td>46</td>\n",
       "      <td>1</td>\n",
       "      <td>1</td>\n",
       "      <td>2</td>\n",
       "      <td>4</td>\n",
       "      <td>0</td>\n",
       "      <td>37.37425</td>\n",
       "      <td>52.95411</td>\n",
       "      <td>0</td>\n",
       "    </tr>\n",
       "  </tbody>\n",
       "</table>\n",
       "</div>"
      ],
      "text/plain": [
       "   pg  i.age  i.sex  i.educ  i.insu  i.seve  com.t    pcs.sd    mcs.sd  i.aqoc\n",
       "0   1     36      0       5       1       2      4  49.97533  49.57280       1\n",
       "1   1     37      1       6       2       3      3  40.93979  56.11393       1\n",
       "2   1     43      1       5       1       4      3  50.32495  57.11961       1\n",
       "3   1     39      1       6       1       4      1  49.34402  49.65159       1\n",
       "4   1     46      1       1       2       4      0  37.37425  52.95411       0"
      ]
     },
     "execution_count": 190,
     "metadata": {},
     "output_type": "execute_result"
    }
   ],
   "source": [
    "dataframe.head()"
   ]
  },
  {
   "cell_type": "markdown",
   "metadata": {},
   "source": [
    "One thing to notice is that the \"pg\" variable is labeled with {1,2}. Let's relabel this to avoid confusion with convention."
   ]
  },
  {
   "cell_type": "code",
   "execution_count": 191,
   "metadata": {},
   "outputs": [
    {
     "name": "stderr",
     "output_type": "stream",
     "text": [
      "C:\\Users\\stipp\\Anaconda3\\lib\\site-packages\\pandas\\core\\indexing.py:494: SettingWithCopyWarning: \n",
      "A value is trying to be set on a copy of a slice from a DataFrame.\n",
      "Try using .loc[row_indexer,col_indexer] = value instead\n",
      "\n",
      "See the caveats in the documentation: http://pandas.pydata.org/pandas-docs/stable/user_guide/indexing.html#returning-a-view-versus-a-copy\n",
      "  self.obj[item] = s\n"
     ]
    }
   ],
   "source": [
    "dataframe[dataframe[\"pg\"] == 2].loc[:,\"pg\"] = 1\n",
    "dataframe[dataframe[\"pg\"] == 1].loc[:,\"pg\"] = 0"
   ]
  },
  {
   "cell_type": "code",
   "execution_count": 192,
   "metadata": {},
   "outputs": [
    {
     "data": {
      "text/html": [
       "<div>\n",
       "<style scoped>\n",
       "    .dataframe tbody tr th:only-of-type {\n",
       "        vertical-align: middle;\n",
       "    }\n",
       "\n",
       "    .dataframe tbody tr th {\n",
       "        vertical-align: top;\n",
       "    }\n",
       "\n",
       "    .dataframe thead th {\n",
       "        text-align: right;\n",
       "    }\n",
       "</style>\n",
       "<table border=\"1\" class=\"dataframe\">\n",
       "  <thead>\n",
       "    <tr style=\"text-align: right;\">\n",
       "      <th></th>\n",
       "      <th>pg</th>\n",
       "      <th>i.age</th>\n",
       "      <th>i.sex</th>\n",
       "      <th>i.educ</th>\n",
       "      <th>i.insu</th>\n",
       "      <th>i.seve</th>\n",
       "      <th>com.t</th>\n",
       "      <th>pcs.sd</th>\n",
       "      <th>mcs.sd</th>\n",
       "      <th>i.aqoc</th>\n",
       "    </tr>\n",
       "  </thead>\n",
       "  <tbody>\n",
       "    <tr>\n",
       "      <th>0</th>\n",
       "      <td>1</td>\n",
       "      <td>36</td>\n",
       "      <td>0</td>\n",
       "      <td>5</td>\n",
       "      <td>1</td>\n",
       "      <td>2</td>\n",
       "      <td>4</td>\n",
       "      <td>49.97533</td>\n",
       "      <td>49.57280</td>\n",
       "      <td>1</td>\n",
       "    </tr>\n",
       "    <tr>\n",
       "      <th>1</th>\n",
       "      <td>1</td>\n",
       "      <td>37</td>\n",
       "      <td>1</td>\n",
       "      <td>6</td>\n",
       "      <td>2</td>\n",
       "      <td>3</td>\n",
       "      <td>3</td>\n",
       "      <td>40.93979</td>\n",
       "      <td>56.11393</td>\n",
       "      <td>1</td>\n",
       "    </tr>\n",
       "    <tr>\n",
       "      <th>2</th>\n",
       "      <td>1</td>\n",
       "      <td>43</td>\n",
       "      <td>1</td>\n",
       "      <td>5</td>\n",
       "      <td>1</td>\n",
       "      <td>4</td>\n",
       "      <td>3</td>\n",
       "      <td>50.32495</td>\n",
       "      <td>57.11961</td>\n",
       "      <td>1</td>\n",
       "    </tr>\n",
       "    <tr>\n",
       "      <th>3</th>\n",
       "      <td>1</td>\n",
       "      <td>39</td>\n",
       "      <td>1</td>\n",
       "      <td>6</td>\n",
       "      <td>1</td>\n",
       "      <td>4</td>\n",
       "      <td>1</td>\n",
       "      <td>49.34402</td>\n",
       "      <td>49.65159</td>\n",
       "      <td>1</td>\n",
       "    </tr>\n",
       "    <tr>\n",
       "      <th>4</th>\n",
       "      <td>1</td>\n",
       "      <td>46</td>\n",
       "      <td>1</td>\n",
       "      <td>1</td>\n",
       "      <td>2</td>\n",
       "      <td>4</td>\n",
       "      <td>0</td>\n",
       "      <td>37.37425</td>\n",
       "      <td>52.95411</td>\n",
       "      <td>0</td>\n",
       "    </tr>\n",
       "  </tbody>\n",
       "</table>\n",
       "</div>"
      ],
      "text/plain": [
       "   pg  i.age  i.sex  i.educ  i.insu  i.seve  com.t    pcs.sd    mcs.sd  i.aqoc\n",
       "0   1     36      0       5       1       2      4  49.97533  49.57280       1\n",
       "1   1     37      1       6       2       3      3  40.93979  56.11393       1\n",
       "2   1     43      1       5       1       4      3  50.32495  57.11961       1\n",
       "3   1     39      1       6       1       4      1  49.34402  49.65159       1\n",
       "4   1     46      1       1       2       4      0  37.37425  52.95411       0"
      ]
     },
     "execution_count": 192,
     "metadata": {},
     "output_type": "execute_result"
    }
   ],
   "source": [
    "dataframe.head()"
   ]
  },
  {
   "cell_type": "markdown",
   "metadata": {},
   "source": [
    "Now at this stage we should set some data aside for testing and validation. If we don't do so we are likely to add bias into the model and to overfit (data snooping bias). Since the dataset is relatively small, we use stratified sampling to ensure that the data is as representative of the population as possible with respect to the treatment variable."
   ]
  },
  {
   "cell_type": "code",
   "execution_count": 193,
   "metadata": {},
   "outputs": [],
   "source": [
    "from sklearn.model_selection import StratifiedShuffleSplit"
   ]
  },
  {
   "cell_type": "code",
   "execution_count": 194,
   "metadata": {},
   "outputs": [],
   "source": [
    "split = StratifiedShuffleSplit(n_splits=1, test_size=0.1, random_state=12)\n",
    "for train_index, test_index in split.split(dataframe, dataframe[\"pg\"]):\n",
    "    strat_train_set = dataframe.loc[train_index]\n",
    "    strat_test_set = dataframe.loc[test_index]"
   ]
  },
  {
   "cell_type": "markdown",
   "metadata": {},
   "source": [
    "We can now explore the correlations between variables to check for any multicollinearity problems that could arise (that would also lead to a high variance model)."
   ]
  },
  {
   "cell_type": "code",
   "execution_count": 195,
   "metadata": {},
   "outputs": [
    {
     "data": {
      "text/html": [
       "<div>\n",
       "<style scoped>\n",
       "    .dataframe tbody tr th:only-of-type {\n",
       "        vertical-align: middle;\n",
       "    }\n",
       "\n",
       "    .dataframe tbody tr th {\n",
       "        vertical-align: top;\n",
       "    }\n",
       "\n",
       "    .dataframe thead th {\n",
       "        text-align: right;\n",
       "    }\n",
       "</style>\n",
       "<table border=\"1\" class=\"dataframe\">\n",
       "  <thead>\n",
       "    <tr style=\"text-align: right;\">\n",
       "      <th></th>\n",
       "      <th>pg</th>\n",
       "      <th>i.age</th>\n",
       "      <th>i.sex</th>\n",
       "      <th>i.educ</th>\n",
       "      <th>i.insu</th>\n",
       "      <th>i.seve</th>\n",
       "      <th>com.t</th>\n",
       "      <th>pcs.sd</th>\n",
       "      <th>mcs.sd</th>\n",
       "      <th>i.aqoc</th>\n",
       "    </tr>\n",
       "  </thead>\n",
       "  <tbody>\n",
       "    <tr>\n",
       "      <th>112</th>\n",
       "      <td>2</td>\n",
       "      <td>32</td>\n",
       "      <td>1</td>\n",
       "      <td>6</td>\n",
       "      <td>2</td>\n",
       "      <td>2</td>\n",
       "      <td>1</td>\n",
       "      <td>55.07315</td>\n",
       "      <td>24.43128</td>\n",
       "      <td>0</td>\n",
       "    </tr>\n",
       "    <tr>\n",
       "      <th>53</th>\n",
       "      <td>1</td>\n",
       "      <td>41</td>\n",
       "      <td>1</td>\n",
       "      <td>4</td>\n",
       "      <td>1</td>\n",
       "      <td>4</td>\n",
       "      <td>4</td>\n",
       "      <td>33.41873</td>\n",
       "      <td>33.41732</td>\n",
       "      <td>1</td>\n",
       "    </tr>\n",
       "    <tr>\n",
       "      <th>93</th>\n",
       "      <td>1</td>\n",
       "      <td>20</td>\n",
       "      <td>1</td>\n",
       "      <td>4</td>\n",
       "      <td>1</td>\n",
       "      <td>2</td>\n",
       "      <td>2</td>\n",
       "      <td>44.92749</td>\n",
       "      <td>35.24172</td>\n",
       "      <td>1</td>\n",
       "    </tr>\n",
       "    <tr>\n",
       "      <th>84</th>\n",
       "      <td>1</td>\n",
       "      <td>40</td>\n",
       "      <td>0</td>\n",
       "      <td>6</td>\n",
       "      <td>1</td>\n",
       "      <td>1</td>\n",
       "      <td>1</td>\n",
       "      <td>37.23123</td>\n",
       "      <td>56.46801</td>\n",
       "      <td>1</td>\n",
       "    </tr>\n",
       "    <tr>\n",
       "      <th>56</th>\n",
       "      <td>1</td>\n",
       "      <td>44</td>\n",
       "      <td>1</td>\n",
       "      <td>6</td>\n",
       "      <td>1</td>\n",
       "      <td>3</td>\n",
       "      <td>2</td>\n",
       "      <td>50.78630</td>\n",
       "      <td>59.10188</td>\n",
       "      <td>1</td>\n",
       "    </tr>\n",
       "    <tr>\n",
       "      <th>...</th>\n",
       "      <td>...</td>\n",
       "      <td>...</td>\n",
       "      <td>...</td>\n",
       "      <td>...</td>\n",
       "      <td>...</td>\n",
       "      <td>...</td>\n",
       "      <td>...</td>\n",
       "      <td>...</td>\n",
       "      <td>...</td>\n",
       "      <td>...</td>\n",
       "    </tr>\n",
       "    <tr>\n",
       "      <th>170</th>\n",
       "      <td>2</td>\n",
       "      <td>39</td>\n",
       "      <td>1</td>\n",
       "      <td>5</td>\n",
       "      <td>1</td>\n",
       "      <td>3</td>\n",
       "      <td>1</td>\n",
       "      <td>50.42865</td>\n",
       "      <td>37.29286</td>\n",
       "      <td>0</td>\n",
       "    </tr>\n",
       "    <tr>\n",
       "      <th>14</th>\n",
       "      <td>1</td>\n",
       "      <td>51</td>\n",
       "      <td>0</td>\n",
       "      <td>6</td>\n",
       "      <td>1</td>\n",
       "      <td>3</td>\n",
       "      <td>4</td>\n",
       "      <td>41.06879</td>\n",
       "      <td>46.04102</td>\n",
       "      <td>1</td>\n",
       "    </tr>\n",
       "    <tr>\n",
       "      <th>77</th>\n",
       "      <td>1</td>\n",
       "      <td>48</td>\n",
       "      <td>0</td>\n",
       "      <td>2</td>\n",
       "      <td>1</td>\n",
       "      <td>3</td>\n",
       "      <td>5</td>\n",
       "      <td>33.27224</td>\n",
       "      <td>39.15091</td>\n",
       "      <td>1</td>\n",
       "    </tr>\n",
       "    <tr>\n",
       "      <th>224</th>\n",
       "      <td>2</td>\n",
       "      <td>34</td>\n",
       "      <td>0</td>\n",
       "      <td>6</td>\n",
       "      <td>1</td>\n",
       "      <td>1</td>\n",
       "      <td>2</td>\n",
       "      <td>56.34995</td>\n",
       "      <td>57.86367</td>\n",
       "      <td>1</td>\n",
       "    </tr>\n",
       "    <tr>\n",
       "      <th>81</th>\n",
       "      <td>1</td>\n",
       "      <td>49</td>\n",
       "      <td>1</td>\n",
       "      <td>6</td>\n",
       "      <td>1</td>\n",
       "      <td>2</td>\n",
       "      <td>2</td>\n",
       "      <td>46.41923</td>\n",
       "      <td>57.42353</td>\n",
       "      <td>0</td>\n",
       "    </tr>\n",
       "  </tbody>\n",
       "</table>\n",
       "<p>248 rows × 10 columns</p>\n",
       "</div>"
      ],
      "text/plain": [
       "     pg  i.age  i.sex  i.educ  i.insu  i.seve  com.t    pcs.sd    mcs.sd  \\\n",
       "112   2     32      1       6       2       2      1  55.07315  24.43128   \n",
       "53    1     41      1       4       1       4      4  33.41873  33.41732   \n",
       "93    1     20      1       4       1       2      2  44.92749  35.24172   \n",
       "84    1     40      0       6       1       1      1  37.23123  56.46801   \n",
       "56    1     44      1       6       1       3      2  50.78630  59.10188   \n",
       "..   ..    ...    ...     ...     ...     ...    ...       ...       ...   \n",
       "170   2     39      1       5       1       3      1  50.42865  37.29286   \n",
       "14    1     51      0       6       1       3      4  41.06879  46.04102   \n",
       "77    1     48      0       2       1       3      5  33.27224  39.15091   \n",
       "224   2     34      0       6       1       1      2  56.34995  57.86367   \n",
       "81    1     49      1       6       1       2      2  46.41923  57.42353   \n",
       "\n",
       "     i.aqoc  \n",
       "112       0  \n",
       "53        1  \n",
       "93        1  \n",
       "84        1  \n",
       "56        1  \n",
       "..      ...  \n",
       "170       0  \n",
       "14        1  \n",
       "77        1  \n",
       "224       1  \n",
       "81        0  \n",
       "\n",
       "[248 rows x 10 columns]"
      ]
     },
     "execution_count": 195,
     "metadata": {},
     "output_type": "execute_result"
    }
   ],
   "source": [
    "strat_train_set"
   ]
  },
  {
   "cell_type": "code",
   "execution_count": 196,
   "metadata": {},
   "outputs": [
    {
     "data": {
      "text/plain": [
       "i.aqoc    1.000000\n",
       "com.t     0.192830\n",
       "i.age     0.168820\n",
       "i.sex     0.052145\n",
       "i.educ    0.021557\n",
       "pcs.sd   -0.077443\n",
       "mcs.sd   -0.098633\n",
       "i.insu   -0.123758\n",
       "i.seve   -0.144693\n",
       "pg       -0.154187\n",
       "Name: i.aqoc, dtype: float64"
      ]
     },
     "execution_count": 196,
     "metadata": {},
     "output_type": "execute_result"
    }
   ],
   "source": [
    "correlations = strat_train_set.corr()\n",
    "correlations[\"i.aqoc\"].sort_values(ascending=False)"
   ]
  },
  {
   "cell_type": "markdown",
   "metadata": {},
   "source": [
    "From the correlations we observe that the treatment (physician group) is negatively correlated with the outcome of interest. That is, physician group (pg) 1 is correlated with a lower satisfaction score."
   ]
  },
  {
   "cell_type": "code",
   "execution_count": 197,
   "metadata": {},
   "outputs": [
    {
     "data": {
      "image/png": "[encoded data removed]",
      "text/plain": [
       "<Figure size 864x576 with 100 Axes>"
      ]
     },
     "metadata": {
      "needs_background": "light"
     },
     "output_type": "display_data"
    }
   ],
   "source": [
    "from pandas.plotting import scatter_matrix\n",
    "\n",
    "scatter_matrix(strat_test_set, figsize=(12, 8))\n",
    "\n",
    "plt.show()"
   ]
  },
  {
   "cell_type": "markdown",
   "metadata": {},
   "source": [
    "From the visualisation we can see some variables seem to be correlated. Let's have a closer look at com.t against i.age (comorbidity against age)."
   ]
  },
  {
   "cell_type": "code",
   "execution_count": 198,
   "metadata": {},
   "outputs": [
    {
     "name": "stderr",
     "output_type": "stream",
     "text": [
      "'c' argument looks like a single numeric RGB or RGBA sequence, which should be avoided as value-mapping will have precedence in case its length matches with 'x' & 'y'.  Please use a 2-D array with a single row if you really want to specify the same RGB or RGBA value for all points.\n"
     ]
    },
    {
     "data": {
      "text/plain": [
       "<matplotlib.axes._subplots.AxesSubplot at 0x21fac2e1898>"
      ]
     },
     "execution_count": 198,
     "metadata": {},
     "output_type": "execute_result"
    },
    {
     "data": {
      "image/png": "[encoded data removed]",
      "text/plain": [
       "<Figure size 432x288 with 1 Axes>"
      ]
     },
     "metadata": {
      "needs_background": "light"
     },
     "output_type": "display_data"
    }
   ],
   "source": [
    "strat_train_set.plot(kind=\"scatter\", y=\"com.t\", x=\"i.age\",\n",
    " alpha=0.5)"
   ]
  },
  {
   "cell_type": "markdown",
   "metadata": {},
   "source": [
    "There seems to be a positive correlation between age and comorbidity. Let's fit an OLS model to explore this further. "
   ]
  },
  {
   "cell_type": "code",
   "execution_count": 199,
   "metadata": {},
   "outputs": [],
   "source": [
    "import statsmodels.api as sm"
   ]
  },
  {
   "cell_type": "code",
   "execution_count": 200,
   "metadata": {},
   "outputs": [
    {
     "name": "stderr",
     "output_type": "stream",
     "text": [
      "C:\\Users\\stipp\\Anaconda3\\lib\\site-packages\\numpy\\core\\fromnumeric.py:2495: FutureWarning: Method .ptp is deprecated and will be removed in a future version. Use numpy.ptp instead.\n",
      "  return ptp(axis=axis, out=out, **kwargs)\n"
     ]
    }
   ],
   "source": [
    "results = sm.OLS(strat_train_set[\"com.t\"], sm.add_constant(strat_train_set[\"i.age\"])).fit(cov_type=\"HC1\")"
   ]
  },
  {
   "cell_type": "code",
   "execution_count": 201,
   "metadata": {},
   "outputs": [
    {
     "name": "stdout",
     "output_type": "stream",
     "text": [
      "                            OLS Regression Results                            \n",
      "==============================================================================\n",
      "Dep. Variable:                  com.t   R-squared:                       0.067\n",
      "Model:                            OLS   Adj. R-squared:                  0.064\n",
      "Method:                 Least Squares   F-statistic:                     17.77\n",
      "Date:                Thu, 21 Nov 2019   Prob (F-statistic):           3.51e-05\n",
      "Time:                        04:28:27   Log-Likelihood:                -423.44\n",
      "No. Observations:                 248   AIC:                             850.9\n",
      "Df Residuals:                     246   BIC:                             857.9\n",
      "Df Model:                           1                                         \n",
      "Covariance Type:                  HC1                                         \n",
      "==============================================================================\n",
      "                 coef    std err          z      P>|z|      [0.025      0.975]\n",
      "------------------------------------------------------------------------------\n",
      "const          0.5092      0.374      1.363      0.173      -0.223       1.241\n",
      "i.age          0.0409      0.010      4.215      0.000       0.022       0.060\n",
      "==============================================================================\n",
      "Omnibus:                       12.806   Durbin-Watson:                   1.697\n",
      "Prob(Omnibus):                  0.002   Jarque-Bera (JB):               13.281\n",
      "Skew:                           0.535   Prob(JB):                      0.00131\n",
      "Kurtosis:                       3.377   Cond. No.                         192.\n",
      "==============================================================================\n",
      "\n",
      "Warnings:\n",
      "[1] Standard Errors are heteroscedasticity robust (HC1)\n"
     ]
    }
   ],
   "source": [
    "print(results.summary())"
   ]
  },
  {
   "cell_type": "markdown",
   "metadata": {},
   "source": [
    "Let's run a t-test with"
   ]
  },
  {
   "cell_type": "markdown",
   "metadata": {},
   "source": [
    "$$ H_0 : \\beta = 0 \\ \\ \\ \\ vs. \\ \\ H_1:  \\beta \\ \\neq 0 $$"
   ]
  },
  {
   "cell_type": "markdown",
   "metadata": {},
   "source": [
    "where our model is"
   ]
  },
  {
   "cell_type": "markdown",
   "metadata": {},
   "source": [
    "$$ com_i = \\alpha + \\beta \\times age_i $$"
   ]
  },
  {
   "cell_type": "markdown",
   "metadata": {},
   "source": [
    "for $i=1,2,...,n$ where $n$ is the number of patients in the training set."
   ]
  },
  {
   "cell_type": "code",
   "execution_count": 202,
   "metadata": {},
   "outputs": [
    {
     "name": "stdout",
     "output_type": "stream",
     "text": [
      "                             Test for Constraints                             \n",
      "==============================================================================\n",
      "                 coef    std err          z      P>|z|      [0.025      0.975]\n",
      "------------------------------------------------------------------------------\n",
      "c0             0.0409      0.010      4.215      0.000       0.022       0.060\n",
      "==============================================================================\n"
     ]
    }
   ],
   "source": [
    "r = np.zeros_like(results.params)\n",
    "r[1] += 1\n",
    "T_test = results.t_test(r)\n",
    "print(T_test)"
   ]
  },
  {
   "cell_type": "markdown",
   "metadata": {},
   "source": [
    "From this we can see that the result, with a p-value of 0.000, is significant at the 5% significance level. That is, we can reject the null hypothesis and conclude that there is sufficient evidence to suggest that there is a correlation between age and comorbidity. We can plot the result below."
   ]
  },
  {
   "cell_type": "code",
   "execution_count": 203,
   "metadata": {},
   "outputs": [
    {
     "data": {
      "image/png": "[encoded data removed]",
      "text/plain": [
       "<Figure size 576x360 with 1 Axes>"
      ]
     },
     "metadata": {},
     "output_type": "display_data"
    }
   ],
   "source": [
    "import seaborn as sns; sns.set(color_codes=True)\n",
    "\n",
    "X_plot = np.linspace(0,30,60)\n",
    "plt.figure(figsize=(8, 5))\n",
    "\n",
    "ax= sns.regplot(x=strat_train_set[\"i.age\"], y=strat_train_set[\"com.t\"], color=\"b\", robust=True)\n",
    "plt.show()"
   ]
  },
  {
   "cell_type": "markdown",
   "metadata": {},
   "source": [
    "### A Benchmark Model"
   ]
  },
  {
   "cell_type": "markdown",
   "metadata": {},
   "source": [
    "Before we build the tree-based causal model, we can build a simple OLS model. We will use matching to control for the confounders and reduce selection bias. What we observe, for each i, is"
   ]
  },
  {
   "cell_type": "markdown",
   "metadata": {},
   "source": [
    "$$ E[Y_{1i} | T_i=1] - E[Y_{0i} | T_i=0] $$"
   ]
  },
  {
   "cell_type": "markdown",
   "metadata": {},
   "source": [
    "However we want find the average treatment effect"
   ]
  },
  {
   "cell_type": "markdown",
   "metadata": {},
   "source": [
    "$$ E[Y_{1i}-Y_{0i} | T_i=1] $$"
   ]
  },
  {
   "cell_type": "markdown",
   "metadata": {},
   "source": [
    "But there exists selection bias - which is bias that is systematically introduced, because"
   ]
  },
  {
   "cell_type": "markdown",
   "metadata": {},
   "source": [
    "$$ \n",
    "\\begin{align}\n",
    "E[Y_{1i} | T_i=1] - E[Y_{0i} | T_i=0] &= E[Y_{1i} | T_i=1] - E[Y_{0i} | T_i=1] + E[Y_{0i} | T_i=1] - E[Y_{0i} | T_i=0] \\\\\n",
    "&= E[Y_{1i}-Y_{0i} | T_i=1] + E[Y_{0i} | T_i=1] - E[Y_{0i} | T_i=0] \\\\\n",
    "observed \\ effect &= treatment \\ effect + selection \\ bias\n",
    "\\end{align}\n",
    "$$"
   ]
  },
  {
   "cell_type": "markdown",
   "metadata": {},
   "source": [
    "We can use matching to control for the confounders to reduce the selection bias as close as possible to zero such that we can observe the causal effect of each physician group on the satisfaction of the patients. We need to make a story to select which covariates we want to choose. We also need to check that the controls we introduce are \"good controls\", or at least \"neutral controls\". That means that two properties should hold: (1) aer determined prior to the process that leads from the regressor of\n",
    "interest (the treatment) to outcomes, and (2) are immutable characteristics of the units of observation.\n"
   ]
  },
  {
   "cell_type": "markdown",
   "metadata": {},
   "source": [
    "We need to control for the fact that patients across the treatments are systematically different in some way."
   ]
  },
  {
   "cell_type": "markdown",
   "metadata": {},
   "source": [
    "We choose mental comorbidity to control for the general positivity/negativity of the patient. The positivity of a patient is likely to influence the satisfaction rating the patient gives the physician and so this is an example of a neutral control. This is possibly good for precision as it could reduce the variance of the residual."
   ]
  },
  {
   "cell_type": "markdown",
   "metadata": {},
   "source": [
    "Another control we choose is \"severity\". If we consider health as a confounder, health may influence the treatment because a patient may choose to go to a certain doctor based on repuation. Then health is also influencing Y because if a patient is healthier, he/she is more likely to be satisfied with the physician. This is an example of a good control with which we are blocking the \"back-door\" from T to Y by introducing a proxy \"severity\" as a proxy to health."
   ]
  },
  {
   "cell_type": "markdown",
   "metadata": {},
   "source": [
    "Thus our model is"
   ]
  },
  {
   "cell_type": "markdown",
   "metadata": {},
   "source": [
    "$$ \\text{satisfaction}_i = \\alpha + \\beta \\times \\text{physician group}_i + \\zeta_1 \\times \\text{mental comorbidity}_i + \\zeta_2 \\times \\text{severity}_i + \\varepsilon_i $$"
   ]
  },
  {
   "cell_type": "markdown",
   "metadata": {},
   "source": [
    "Let's build this model in statsmodels and run the regression."
   ]
  },
  {
   "cell_type": "code",
   "execution_count": null,
   "metadata": {},
   "outputs": [],
   "source": []
  },
  {
   "cell_type": "markdown",
   "metadata": {},
   "source": [
    "### Appendix\n",
    "\n",
    "#### Heterogeneous treatment effect estimation\n",
    "\n",
    "We are trying to estimate the conditional average treatment effect (CATE) using a set of features. We define the CATE as:"
   ]
  },
  {
   "cell_type": "markdown",
   "metadata": {},
   "source": [
    "$$\\tau(x) := E[Y_{1i}-Y_{i0} | X_i = \\textbf{x}]$$"
   ]
  },
  {
   "cell_type": "markdown",
   "metadata": {},
   "source": [
    "We need to find an estimate $\\hat{\\tau}(x)$ for the CATE. Clearly we need to partition the feature space. Our dataset, S, needs to have the form:"
   ]
  },
  {
   "cell_type": "markdown",
   "metadata": {},
   "source": [
    "$$ S = \\{ { \\textbf{X}_i, Y_i, T_i): \\textbf{X}_i \\in \\mathcal{X}} \\} $$"
   ]
  },
  {
   "cell_type": "markdown",
   "metadata": {},
   "source": [
    "Where $Y_i$ is the outcome, $T_i$ is the binary variable for the treatment, and $\\textbf{X}_i$ the feature vector containing the other covariates."
   ]
  },
  {
   "cell_type": "markdown",
   "metadata": {},
   "source": [
    "A partitioning of the feature space into L partitions is defined as"
   ]
  },
  {
   "cell_type": "markdown",
   "metadata": {},
   "source": [
    "$$ \\mathcal{X} = \\mathcal{X}_1 \\cup \\mathcal{X}_2 \\cup ... \\cup \\mathcal{X}_L $$"
   ]
  },
  {
   "cell_type": "markdown",
   "metadata": {},
   "source": [
    "The subsets should be mutually exclusive and collectively exhaustive of $\\mathcal{X}$. Then"
   ]
  },
  {
   "cell_type": "markdown",
   "metadata": {},
   "source": [
    "$$ S_l = \\{ { \\textbf{X}_i, Y_i, T_i): \\textbf{X}_i \\in \\mathcal{X}_l} \\} $$"
   ]
  },
  {
   "cell_type": "markdown",
   "metadata": {},
   "source": [
    "Now it follows that the conditional mean for the outcome and control in a particular partition $\\mathcal{X}_l$ is defined as:"
   ]
  },
  {
   "cell_type": "markdown",
   "metadata": {},
   "source": [
    "$$ \\hat{\\mu}_t(S_l) = \\frac{1}{N_{l_t}} \\sum_{T_i=t, i \\in S_l}^{} Y_i $$"
   ]
  },
  {
   "cell_type": "markdown",
   "metadata": {},
   "source": [
    "where  $t \\in {0,1} : \\hat{\\mu}_1, \\hat{\\mu}_2 $ are the conditional means. Capital N is indexed by the partition's treatment and control group. With this information we can find the average causal effect (ACE) for a given partitiond defined by:"
   ]
  },
  {
   "cell_type": "markdown",
   "metadata": {},
   "source": [
    "$$ \\hat{\\tau}(S_l) = \\hat{\\mu}_1(S_l) - \\hat{\\mu}_0(S_l) $$"
   ]
  },
  {
   "cell_type": "markdown",
   "metadata": {},
   "source": [
    "We can use trees for heterogeneous treatment effect estimation by representing each partition by a tree. Trees are built greedily to maximise F, a partition measure that measures the average causal effect for the given partition. For example, if we want to split a particular node, the algorith will split in such a way as to maximise \"F\" on its children.\n",
    "\n",
    "It can be beneficial to add a penalty to the splitting criteria. This is called the \"honest\" approach (CT-H)."
   ]
  }
 ],
 "metadata": {
  "kernelspec": {
   "display_name": "Python 3",
   "language": "python",
   "name": "python3"
  },
  "language_info": {
   "codemirror_mode": {
    "name": "ipython",
    "version": 3
   },
   "file_extension": ".py",
   "mimetype": "text/x-python",
   "name": "python",
   "nbconvert_exporter": "python",
   "pygments_lexer": "ipython3",
   "version": "3.7.1"
  }
 },
 "nbformat": 4,
 "nbformat_minor": 2
}

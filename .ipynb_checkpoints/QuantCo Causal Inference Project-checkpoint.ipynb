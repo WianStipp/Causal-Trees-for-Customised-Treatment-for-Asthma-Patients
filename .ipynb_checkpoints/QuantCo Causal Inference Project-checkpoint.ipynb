{
 "cells": [
  {
   "cell_type": "markdown",
   "metadata": {},
   "source": [
    "### $\\textbf{QuantCo Causal Inference Project}$\n",
    "##### Wian Stipp"
   ]
  },
  {
   "cell_type": "markdown",
   "metadata": {},
   "source": [
    "### Describing The Problem:\n",
    "\n",
    "We are using a study to compare the quality of services provided by two physician groups for asthma patients in California. Let $Y_i(z)$ be the score (1 = satisfactory, 0 = non-satisfactory) given by patient $i$ for the treatment recieved by physician  group $z \\in \\{1,2\\}$ \n",
    "Besides the treatment variable and the outcome variable we have a list of covariates: 'age', 'sex', 'education', 'insurance', 'drug coverage', 'severity', 'comorbidity', 'physical comorbidity', 'mental comorbidity'.\n",
    "\n",
    "Comorbidity is defined as: the presence of one or more additional conditions co-occurring with a primary condition; in the countable sense of the term, a comorbidity is each additional condition. The additional condition may also be a behavioral or mental disorder.\n",
    "\n",
    "We assume the treatment assignment is ignorable conditional on all the pretreatment variables\n",
    "\n",
    "#### The Objective\n",
    "\n",
    "We are using a study to compare the quality of services provided by two physician groups for asthma patients in California. Our objective is to find the average treatment (causal) effect of each physician compared to the other. That is if $p_z$ is the fraction of patients that would be satisfied with the service of $z$ if all patients were treated by the same, then we want to find $p_1 - p_2$.\n",
    "\n",
    "here is, however, a more interesting insight we can find; We can find which types of people would be more satisified with each of the physician groups. This is a problem known as heterogeneous treatment effect (HTE) estimation. In this project, we will explore how a causal tree-based learning method can find heterogeneity in the treatment effects.\n",
    "\n",
    "\n",
    "#### The Data\n",
    "\n",
    "The data is sourced from http://www.biostat.jhsph.edu/~cfrangak/biostat_causal/asthma.txt. We are going to split the data into a training, validation and testing subset such that we can test the model on out-of-sample data.\n",
    "\n",
    "#### The Model\n",
    "\n",
    "We are primarily using the work published 2019: \"Learning Triggers for Heterogeneous Treatment Effects\" by Christopher Tran and Elena Zheleva."
   ]
  },
  {
   "cell_type": "markdown",
   "metadata": {},
   "source": [
    "# The Project"
   ]
  },
  {
   "cell_type": "markdown",
   "metadata": {},
   "source": [
    "## Data Visualisation and Preparation"
   ]
  },
  {
   "cell_type": "markdown",
   "metadata": {},
   "source": [
    "We first start off by importing the relevant data and packages we will be using."
   ]
  },
  {
   "cell_type": "code",
   "execution_count": 331,
   "metadata": {},
   "outputs": [],
   "source": [
    "import numpy as np\n",
    "import pandas as pd\n",
    "import matplotlib.pyplot as plt\n",
    "%matplotlib inline"
   ]
  },
  {
   "cell_type": "code",
   "execution_count": 332,
   "metadata": {},
   "outputs": [],
   "source": [
    "dataframe = pd.read_csv('data/asthma.txt', delimiter=' ', index_col=None)"
   ]
  },
  {
   "cell_type": "markdown",
   "metadata": {},
   "source": [
    "Let's explore the data a little bit"
   ]
  },
  {
   "cell_type": "code",
   "execution_count": 333,
   "metadata": {},
   "outputs": [
    {
     "data": {
      "text/html": [
       "<div>\n",
       "<style scoped>\n",
       "    .dataframe tbody tr th:only-of-type {\n",
       "        vertical-align: middle;\n",
       "    }\n",
       "\n",
       "    .dataframe tbody tr th {\n",
       "        vertical-align: top;\n",
       "    }\n",
       "\n",
       "    .dataframe thead th {\n",
       "        text-align: right;\n",
       "    }\n",
       "</style>\n",
       "<table border=\"1\" class=\"dataframe\">\n",
       "  <thead>\n",
       "    <tr style=\"text-align: right;\">\n",
       "      <th></th>\n",
       "      <th>pg</th>\n",
       "      <th>i.age</th>\n",
       "      <th>i.sex</th>\n",
       "      <th>i.educ</th>\n",
       "      <th>i.insu</th>\n",
       "      <th>i.drug</th>\n",
       "      <th>i.seve</th>\n",
       "      <th>com.t</th>\n",
       "      <th>pcs.sd</th>\n",
       "      <th>mcs.sd</th>\n",
       "      <th>i.aqoc</th>\n",
       "    </tr>\n",
       "  </thead>\n",
       "  <tbody>\n",
       "    <tr>\n",
       "      <th>0</th>\n",
       "      <td>1</td>\n",
       "      <td>36</td>\n",
       "      <td>0</td>\n",
       "      <td>5</td>\n",
       "      <td>1</td>\n",
       "      <td>1</td>\n",
       "      <td>2</td>\n",
       "      <td>4</td>\n",
       "      <td>49.97533</td>\n",
       "      <td>49.57280</td>\n",
       "      <td>1</td>\n",
       "    </tr>\n",
       "    <tr>\n",
       "      <th>1</th>\n",
       "      <td>1</td>\n",
       "      <td>37</td>\n",
       "      <td>1</td>\n",
       "      <td>6</td>\n",
       "      <td>2</td>\n",
       "      <td>1</td>\n",
       "      <td>3</td>\n",
       "      <td>3</td>\n",
       "      <td>40.93979</td>\n",
       "      <td>56.11393</td>\n",
       "      <td>1</td>\n",
       "    </tr>\n",
       "    <tr>\n",
       "      <th>2</th>\n",
       "      <td>1</td>\n",
       "      <td>43</td>\n",
       "      <td>1</td>\n",
       "      <td>5</td>\n",
       "      <td>1</td>\n",
       "      <td>1</td>\n",
       "      <td>4</td>\n",
       "      <td>3</td>\n",
       "      <td>50.32495</td>\n",
       "      <td>57.11961</td>\n",
       "      <td>1</td>\n",
       "    </tr>\n",
       "    <tr>\n",
       "      <th>3</th>\n",
       "      <td>1</td>\n",
       "      <td>39</td>\n",
       "      <td>1</td>\n",
       "      <td>6</td>\n",
       "      <td>1</td>\n",
       "      <td>1</td>\n",
       "      <td>4</td>\n",
       "      <td>1</td>\n",
       "      <td>49.34402</td>\n",
       "      <td>49.65159</td>\n",
       "      <td>1</td>\n",
       "    </tr>\n",
       "    <tr>\n",
       "      <th>4</th>\n",
       "      <td>1</td>\n",
       "      <td>46</td>\n",
       "      <td>1</td>\n",
       "      <td>1</td>\n",
       "      <td>2</td>\n",
       "      <td>1</td>\n",
       "      <td>4</td>\n",
       "      <td>0</td>\n",
       "      <td>37.37425</td>\n",
       "      <td>52.95411</td>\n",
       "      <td>0</td>\n",
       "    </tr>\n",
       "  </tbody>\n",
       "</table>\n",
       "</div>"
      ],
      "text/plain": [
       "   pg  i.age  i.sex  i.educ  i.insu  i.drug  i.seve  com.t    pcs.sd  \\\n",
       "0   1     36      0       5       1       1       2      4  49.97533   \n",
       "1   1     37      1       6       2       1       3      3  40.93979   \n",
       "2   1     43      1       5       1       1       4      3  50.32495   \n",
       "3   1     39      1       6       1       1       4      1  49.34402   \n",
       "4   1     46      1       1       2       1       4      0  37.37425   \n",
       "\n",
       "     mcs.sd  i.aqoc  \n",
       "0  49.57280       1  \n",
       "1  56.11393       1  \n",
       "2  57.11961       1  \n",
       "3  49.65159       1  \n",
       "4  52.95411       0  "
      ]
     },
     "execution_count": 333,
     "metadata": {},
     "output_type": "execute_result"
    }
   ],
   "source": [
    "dataframe.head()"
   ]
  },
  {
   "cell_type": "code",
   "execution_count": 334,
   "metadata": {},
   "outputs": [
    {
     "data": {
      "text/html": [
       "<div>\n",
       "<style scoped>\n",
       "    .dataframe tbody tr th:only-of-type {\n",
       "        vertical-align: middle;\n",
       "    }\n",
       "\n",
       "    .dataframe tbody tr th {\n",
       "        vertical-align: top;\n",
       "    }\n",
       "\n",
       "    .dataframe thead th {\n",
       "        text-align: right;\n",
       "    }\n",
       "</style>\n",
       "<table border=\"1\" class=\"dataframe\">\n",
       "  <thead>\n",
       "    <tr style=\"text-align: right;\">\n",
       "      <th></th>\n",
       "      <th>pg</th>\n",
       "      <th>i.age</th>\n",
       "      <th>i.sex</th>\n",
       "      <th>i.educ</th>\n",
       "      <th>i.insu</th>\n",
       "      <th>i.drug</th>\n",
       "      <th>i.seve</th>\n",
       "      <th>com.t</th>\n",
       "      <th>pcs.sd</th>\n",
       "      <th>mcs.sd</th>\n",
       "      <th>i.aqoc</th>\n",
       "    </tr>\n",
       "  </thead>\n",
       "  <tbody>\n",
       "    <tr>\n",
       "      <th>count</th>\n",
       "      <td>276.000000</td>\n",
       "      <td>276.000000</td>\n",
       "      <td>276.000000</td>\n",
       "      <td>276.000000</td>\n",
       "      <td>276.000000</td>\n",
       "      <td>276.000000</td>\n",
       "      <td>276.000000</td>\n",
       "      <td>276.000000</td>\n",
       "      <td>276.000000</td>\n",
       "      <td>276.000000</td>\n",
       "      <td>276.000000</td>\n",
       "    </tr>\n",
       "    <tr>\n",
       "      <th>mean</th>\n",
       "      <td>1.623188</td>\n",
       "      <td>39.960145</td>\n",
       "      <td>0.699275</td>\n",
       "      <td>4.818841</td>\n",
       "      <td>1.478261</td>\n",
       "      <td>0.981884</td>\n",
       "      <td>2.615942</td>\n",
       "      <td>2.173913</td>\n",
       "      <td>45.649891</td>\n",
       "      <td>48.588685</td>\n",
       "      <td>0.673913</td>\n",
       "    </tr>\n",
       "    <tr>\n",
       "      <th>std</th>\n",
       "      <td>0.485467</td>\n",
       "      <td>8.790193</td>\n",
       "      <td>0.459406</td>\n",
       "      <td>0.970365</td>\n",
       "      <td>0.908284</td>\n",
       "      <td>0.133613</td>\n",
       "      <td>0.924986</td>\n",
       "      <td>1.454338</td>\n",
       "      <td>10.227349</td>\n",
       "      <td>9.785507</td>\n",
       "      <td>0.469631</td>\n",
       "    </tr>\n",
       "    <tr>\n",
       "      <th>min</th>\n",
       "      <td>1.000000</td>\n",
       "      <td>19.000000</td>\n",
       "      <td>0.000000</td>\n",
       "      <td>1.000000</td>\n",
       "      <td>1.000000</td>\n",
       "      <td>0.000000</td>\n",
       "      <td>1.000000</td>\n",
       "      <td>0.000000</td>\n",
       "      <td>9.176023</td>\n",
       "      <td>13.458770</td>\n",
       "      <td>0.000000</td>\n",
       "    </tr>\n",
       "    <tr>\n",
       "      <th>25%</th>\n",
       "      <td>1.000000</td>\n",
       "      <td>34.000000</td>\n",
       "      <td>0.000000</td>\n",
       "      <td>4.000000</td>\n",
       "      <td>1.000000</td>\n",
       "      <td>1.000000</td>\n",
       "      <td>2.000000</td>\n",
       "      <td>1.000000</td>\n",
       "      <td>39.905275</td>\n",
       "      <td>43.790342</td>\n",
       "      <td>0.000000</td>\n",
       "    </tr>\n",
       "    <tr>\n",
       "      <th>50%</th>\n",
       "      <td>2.000000</td>\n",
       "      <td>40.000000</td>\n",
       "      <td>1.000000</td>\n",
       "      <td>5.000000</td>\n",
       "      <td>1.000000</td>\n",
       "      <td>1.000000</td>\n",
       "      <td>3.000000</td>\n",
       "      <td>2.000000</td>\n",
       "      <td>47.586820</td>\n",
       "      <td>50.667165</td>\n",
       "      <td>1.000000</td>\n",
       "    </tr>\n",
       "    <tr>\n",
       "      <th>75%</th>\n",
       "      <td>2.000000</td>\n",
       "      <td>47.000000</td>\n",
       "      <td>1.000000</td>\n",
       "      <td>6.000000</td>\n",
       "      <td>2.000000</td>\n",
       "      <td>1.000000</td>\n",
       "      <td>3.000000</td>\n",
       "      <td>3.000000</td>\n",
       "      <td>53.696978</td>\n",
       "      <td>56.036845</td>\n",
       "      <td>1.000000</td>\n",
       "    </tr>\n",
       "    <tr>\n",
       "      <th>max</th>\n",
       "      <td>2.000000</td>\n",
       "      <td>55.000000</td>\n",
       "      <td>1.000000</td>\n",
       "      <td>6.000000</td>\n",
       "      <td>5.000000</td>\n",
       "      <td>1.000000</td>\n",
       "      <td>4.000000</td>\n",
       "      <td>9.000000</td>\n",
       "      <td>65.338440</td>\n",
       "      <td>65.496670</td>\n",
       "      <td>1.000000</td>\n",
       "    </tr>\n",
       "  </tbody>\n",
       "</table>\n",
       "</div>"
      ],
      "text/plain": [
       "               pg       i.age       i.sex      i.educ      i.insu      i.drug  \\\n",
       "count  276.000000  276.000000  276.000000  276.000000  276.000000  276.000000   \n",
       "mean     1.623188   39.960145    0.699275    4.818841    1.478261    0.981884   \n",
       "std      0.485467    8.790193    0.459406    0.970365    0.908284    0.133613   \n",
       "min      1.000000   19.000000    0.000000    1.000000    1.000000    0.000000   \n",
       "25%      1.000000   34.000000    0.000000    4.000000    1.000000    1.000000   \n",
       "50%      2.000000   40.000000    1.000000    5.000000    1.000000    1.000000   \n",
       "75%      2.000000   47.000000    1.000000    6.000000    2.000000    1.000000   \n",
       "max      2.000000   55.000000    1.000000    6.000000    5.000000    1.000000   \n",
       "\n",
       "           i.seve       com.t      pcs.sd      mcs.sd      i.aqoc  \n",
       "count  276.000000  276.000000  276.000000  276.000000  276.000000  \n",
       "mean     2.615942    2.173913   45.649891   48.588685    0.673913  \n",
       "std      0.924986    1.454338   10.227349    9.785507    0.469631  \n",
       "min      1.000000    0.000000    9.176023   13.458770    0.000000  \n",
       "25%      2.000000    1.000000   39.905275   43.790342    0.000000  \n",
       "50%      3.000000    2.000000   47.586820   50.667165    1.000000  \n",
       "75%      3.000000    3.000000   53.696978   56.036845    1.000000  \n",
       "max      4.000000    9.000000   65.338440   65.496670    1.000000  "
      ]
     },
     "execution_count": 334,
     "metadata": {},
     "output_type": "execute_result"
    }
   ],
   "source": [
    "dataframe.describe()"
   ]
  },
  {
   "cell_type": "code",
   "execution_count": 335,
   "metadata": {
    "scrolled": false
   },
   "outputs": [
    {
     "name": "stdout",
     "output_type": "stream",
     "text": [
      "<class 'pandas.core.frame.DataFrame'>\n",
      "RangeIndex: 276 entries, 0 to 275\n",
      "Data columns (total 11 columns):\n",
      "pg        276 non-null int64\n",
      "i.age     276 non-null int64\n",
      "i.sex     276 non-null int64\n",
      "i.educ    276 non-null int64\n",
      "i.insu    276 non-null int64\n",
      "i.drug    276 non-null int64\n",
      "i.seve    276 non-null int64\n",
      "com.t     276 non-null int64\n",
      "pcs.sd    276 non-null float64\n",
      "mcs.sd    276 non-null float64\n",
      "i.aqoc    276 non-null int64\n",
      "dtypes: float64(2), int64(9)\n",
      "memory usage: 23.8 KB\n"
     ]
    }
   ],
   "source": [
    "dataframe.info()"
   ]
  },
  {
   "cell_type": "code",
   "execution_count": 336,
   "metadata": {},
   "outputs": [
    {
     "data": {
      "image/png": "[encoded data removed]",
      "text/plain": [
       "<Figure size 1440x1080 with 12 Axes>"
      ]
     },
     "metadata": {
      "needs_background": "light"
     },
     "output_type": "display_data"
    }
   ],
   "source": [
    "import matplotlib.pyplot as plt\n",
    "dataframe.hist(bins=50, figsize=(20,15))\n",
    "plt.show()"
   ]
  },
  {
   "cell_type": "markdown",
   "metadata": {},
   "source": [
    "It seems like the covariate i.drug is heavily imbalanced and so won't add much value to our model (apart from making us more likely to overfit), and therefore we can discard it.\n",
    "\n",
    "Besides that, the rest of the data looks well distributed with a few covariates taking a log-normal looking shape."
   ]
  },
  {
   "cell_type": "code",
   "execution_count": 337,
   "metadata": {},
   "outputs": [],
   "source": [
    "dataframe = dataframe.drop([\"i.drug\"], axis=1)"
   ]
  },
  {
   "cell_type": "code",
   "execution_count": 338,
   "metadata": {
    "scrolled": true
   },
   "outputs": [
    {
     "data": {
      "text/html": [
       "<div>\n",
       "<style scoped>\n",
       "    .dataframe tbody tr th:only-of-type {\n",
       "        vertical-align: middle;\n",
       "    }\n",
       "\n",
       "    .dataframe tbody tr th {\n",
       "        vertical-align: top;\n",
       "    }\n",
       "\n",
       "    .dataframe thead th {\n",
       "        text-align: right;\n",
       "    }\n",
       "</style>\n",
       "<table border=\"1\" class=\"dataframe\">\n",
       "  <thead>\n",
       "    <tr style=\"text-align: right;\">\n",
       "      <th></th>\n",
       "      <th>pg</th>\n",
       "      <th>i.age</th>\n",
       "      <th>i.sex</th>\n",
       "      <th>i.educ</th>\n",
       "      <th>i.insu</th>\n",
       "      <th>i.seve</th>\n",
       "      <th>com.t</th>\n",
       "      <th>pcs.sd</th>\n",
       "      <th>mcs.sd</th>\n",
       "      <th>i.aqoc</th>\n",
       "    </tr>\n",
       "  </thead>\n",
       "  <tbody>\n",
       "    <tr>\n",
       "      <th>0</th>\n",
       "      <td>1</td>\n",
       "      <td>36</td>\n",
       "      <td>0</td>\n",
       "      <td>5</td>\n",
       "      <td>1</td>\n",
       "      <td>2</td>\n",
       "      <td>4</td>\n",
       "      <td>49.97533</td>\n",
       "      <td>49.57280</td>\n",
       "      <td>1</td>\n",
       "    </tr>\n",
       "    <tr>\n",
       "      <th>1</th>\n",
       "      <td>1</td>\n",
       "      <td>37</td>\n",
       "      <td>1</td>\n",
       "      <td>6</td>\n",
       "      <td>2</td>\n",
       "      <td>3</td>\n",
       "      <td>3</td>\n",
       "      <td>40.93979</td>\n",
       "      <td>56.11393</td>\n",
       "      <td>1</td>\n",
       "    </tr>\n",
       "    <tr>\n",
       "      <th>2</th>\n",
       "      <td>1</td>\n",
       "      <td>43</td>\n",
       "      <td>1</td>\n",
       "      <td>5</td>\n",
       "      <td>1</td>\n",
       "      <td>4</td>\n",
       "      <td>3</td>\n",
       "      <td>50.32495</td>\n",
       "      <td>57.11961</td>\n",
       "      <td>1</td>\n",
       "    </tr>\n",
       "    <tr>\n",
       "      <th>3</th>\n",
       "      <td>1</td>\n",
       "      <td>39</td>\n",
       "      <td>1</td>\n",
       "      <td>6</td>\n",
       "      <td>1</td>\n",
       "      <td>4</td>\n",
       "      <td>1</td>\n",
       "      <td>49.34402</td>\n",
       "      <td>49.65159</td>\n",
       "      <td>1</td>\n",
       "    </tr>\n",
       "    <tr>\n",
       "      <th>4</th>\n",
       "      <td>1</td>\n",
       "      <td>46</td>\n",
       "      <td>1</td>\n",
       "      <td>1</td>\n",
       "      <td>2</td>\n",
       "      <td>4</td>\n",
       "      <td>0</td>\n",
       "      <td>37.37425</td>\n",
       "      <td>52.95411</td>\n",
       "      <td>0</td>\n",
       "    </tr>\n",
       "  </tbody>\n",
       "</table>\n",
       "</div>"
      ],
      "text/plain": [
       "   pg  i.age  i.sex  i.educ  i.insu  i.seve  com.t    pcs.sd    mcs.sd  i.aqoc\n",
       "0   1     36      0       5       1       2      4  49.97533  49.57280       1\n",
       "1   1     37      1       6       2       3      3  40.93979  56.11393       1\n",
       "2   1     43      1       5       1       4      3  50.32495  57.11961       1\n",
       "3   1     39      1       6       1       4      1  49.34402  49.65159       1\n",
       "4   1     46      1       1       2       4      0  37.37425  52.95411       0"
      ]
     },
     "execution_count": 338,
     "metadata": {},
     "output_type": "execute_result"
    }
   ],
   "source": [
    "dataframe.head()"
   ]
  },
  {
   "cell_type": "markdown",
   "metadata": {},
   "source": [
    "Now at this stage we should set some data aside for testing and validation. If we don't do so we are likely to add bias into the model and to overfit (data snooping bias). Since the dataset is relatively small, we use stratified sampling to ensure that the data is as representative of the population as possible with respect to the treatment variable. We take 10% for test and validation, and leave 80% to train with."
   ]
  },
  {
   "cell_type": "code",
   "execution_count": 339,
   "metadata": {},
   "outputs": [],
   "source": [
    "from sklearn.model_selection import StratifiedShuffleSplit"
   ]
  },
  {
   "cell_type": "code",
   "execution_count": 340,
   "metadata": {},
   "outputs": [],
   "source": [
    "split = StratifiedShuffleSplit(n_splits=1, test_size=0.1, random_state=12)\n",
    "for train_index, test_index in split.split(dataframe, dataframe[\"pg\"]):\n",
    "    strat_train_set = dataframe.loc[train_index]\n",
    "    strat_test_set = dataframe.loc[test_index]\n",
    "split = StratifiedShuffleSplit(n_splits=1, test_size=0.1*100/90, random_state=12)\n",
    "for train_index, val_index in split.split(dataframe, dataframe[\"pg\"]):\n",
    "    strat_train_set = dataframe.loc[train_index]\n",
    "    strat_val_set = dataframe.loc[val_index]"
   ]
  },
  {
   "cell_type": "code",
   "execution_count": 341,
   "metadata": {},
   "outputs": [
    {
     "name": "stdout",
     "output_type": "stream",
     "text": [
      "Train Size: (245, 10) \n",
      "Validation Size: (31, 10) \n",
      "Test Size: (28, 10)\n"
     ]
    }
   ],
   "source": [
    "print(\"Train Size:\", strat_train_set.shape, \"\\nValidation Size:\", strat_val_set.shape, \"\\nTest Size:\", strat_test_set.shape)"
   ]
  },
  {
   "cell_type": "markdown",
   "metadata": {},
   "source": [
    "We can now explore the correlations between variables to check for any multicollinearity problems that could arise (that would also lead to a high variance model)."
   ]
  },
  {
   "cell_type": "code",
   "execution_count": 342,
   "metadata": {},
   "outputs": [
    {
     "data": {
      "text/html": [
       "<div>\n",
       "<style scoped>\n",
       "    .dataframe tbody tr th:only-of-type {\n",
       "        vertical-align: middle;\n",
       "    }\n",
       "\n",
       "    .dataframe tbody tr th {\n",
       "        vertical-align: top;\n",
       "    }\n",
       "\n",
       "    .dataframe thead th {\n",
       "        text-align: right;\n",
       "    }\n",
       "</style>\n",
       "<table border=\"1\" class=\"dataframe\">\n",
       "  <thead>\n",
       "    <tr style=\"text-align: right;\">\n",
       "      <th></th>\n",
       "      <th>pg</th>\n",
       "      <th>i.age</th>\n",
       "      <th>i.sex</th>\n",
       "      <th>i.educ</th>\n",
       "      <th>i.insu</th>\n",
       "      <th>i.seve</th>\n",
       "      <th>com.t</th>\n",
       "      <th>pcs.sd</th>\n",
       "      <th>mcs.sd</th>\n",
       "      <th>i.aqoc</th>\n",
       "    </tr>\n",
       "  </thead>\n",
       "  <tbody>\n",
       "    <tr>\n",
       "      <th>26</th>\n",
       "      <td>1</td>\n",
       "      <td>33</td>\n",
       "      <td>1</td>\n",
       "      <td>4</td>\n",
       "      <td>2</td>\n",
       "      <td>3</td>\n",
       "      <td>3</td>\n",
       "      <td>52.42070</td>\n",
       "      <td>34.92959</td>\n",
       "      <td>1</td>\n",
       "    </tr>\n",
       "    <tr>\n",
       "      <th>134</th>\n",
       "      <td>2</td>\n",
       "      <td>39</td>\n",
       "      <td>0</td>\n",
       "      <td>5</td>\n",
       "      <td>2</td>\n",
       "      <td>2</td>\n",
       "      <td>2</td>\n",
       "      <td>50.65905</td>\n",
       "      <td>56.01115</td>\n",
       "      <td>0</td>\n",
       "    </tr>\n",
       "    <tr>\n",
       "      <th>107</th>\n",
       "      <td>2</td>\n",
       "      <td>43</td>\n",
       "      <td>0</td>\n",
       "      <td>6</td>\n",
       "      <td>1</td>\n",
       "      <td>3</td>\n",
       "      <td>1</td>\n",
       "      <td>55.45768</td>\n",
       "      <td>54.78220</td>\n",
       "      <td>0</td>\n",
       "    </tr>\n",
       "    <tr>\n",
       "      <th>266</th>\n",
       "      <td>2</td>\n",
       "      <td>53</td>\n",
       "      <td>1</td>\n",
       "      <td>6</td>\n",
       "      <td>2</td>\n",
       "      <td>3</td>\n",
       "      <td>2</td>\n",
       "      <td>51.27369</td>\n",
       "      <td>58.01598</td>\n",
       "      <td>0</td>\n",
       "    </tr>\n",
       "    <tr>\n",
       "      <th>68</th>\n",
       "      <td>1</td>\n",
       "      <td>52</td>\n",
       "      <td>1</td>\n",
       "      <td>4</td>\n",
       "      <td>1</td>\n",
       "      <td>3</td>\n",
       "      <td>3</td>\n",
       "      <td>44.07736</td>\n",
       "      <td>47.35703</td>\n",
       "      <td>1</td>\n",
       "    </tr>\n",
       "    <tr>\n",
       "      <th>...</th>\n",
       "      <td>...</td>\n",
       "      <td>...</td>\n",
       "      <td>...</td>\n",
       "      <td>...</td>\n",
       "      <td>...</td>\n",
       "      <td>...</td>\n",
       "      <td>...</td>\n",
       "      <td>...</td>\n",
       "      <td>...</td>\n",
       "      <td>...</td>\n",
       "    </tr>\n",
       "    <tr>\n",
       "      <th>210</th>\n",
       "      <td>2</td>\n",
       "      <td>47</td>\n",
       "      <td>1</td>\n",
       "      <td>5</td>\n",
       "      <td>1</td>\n",
       "      <td>3</td>\n",
       "      <td>1</td>\n",
       "      <td>54.44438</td>\n",
       "      <td>26.44669</td>\n",
       "      <td>1</td>\n",
       "    </tr>\n",
       "    <tr>\n",
       "      <th>14</th>\n",
       "      <td>1</td>\n",
       "      <td>51</td>\n",
       "      <td>0</td>\n",
       "      <td>6</td>\n",
       "      <td>1</td>\n",
       "      <td>3</td>\n",
       "      <td>4</td>\n",
       "      <td>41.06879</td>\n",
       "      <td>46.04102</td>\n",
       "      <td>1</td>\n",
       "    </tr>\n",
       "    <tr>\n",
       "      <th>77</th>\n",
       "      <td>1</td>\n",
       "      <td>48</td>\n",
       "      <td>0</td>\n",
       "      <td>2</td>\n",
       "      <td>1</td>\n",
       "      <td>3</td>\n",
       "      <td>5</td>\n",
       "      <td>33.27224</td>\n",
       "      <td>39.15091</td>\n",
       "      <td>1</td>\n",
       "    </tr>\n",
       "    <tr>\n",
       "      <th>149</th>\n",
       "      <td>2</td>\n",
       "      <td>43</td>\n",
       "      <td>1</td>\n",
       "      <td>4</td>\n",
       "      <td>2</td>\n",
       "      <td>1</td>\n",
       "      <td>1</td>\n",
       "      <td>53.88596</td>\n",
       "      <td>58.98788</td>\n",
       "      <td>1</td>\n",
       "    </tr>\n",
       "    <tr>\n",
       "      <th>81</th>\n",
       "      <td>1</td>\n",
       "      <td>49</td>\n",
       "      <td>1</td>\n",
       "      <td>6</td>\n",
       "      <td>1</td>\n",
       "      <td>2</td>\n",
       "      <td>2</td>\n",
       "      <td>46.41923</td>\n",
       "      <td>57.42353</td>\n",
       "      <td>0</td>\n",
       "    </tr>\n",
       "  </tbody>\n",
       "</table>\n",
       "<p>245 rows × 10 columns</p>\n",
       "</div>"
      ],
      "text/plain": [
       "     pg  i.age  i.sex  i.educ  i.insu  i.seve  com.t    pcs.sd    mcs.sd  \\\n",
       "26    1     33      1       4       2       3      3  52.42070  34.92959   \n",
       "134   2     39      0       5       2       2      2  50.65905  56.01115   \n",
       "107   2     43      0       6       1       3      1  55.45768  54.78220   \n",
       "266   2     53      1       6       2       3      2  51.27369  58.01598   \n",
       "68    1     52      1       4       1       3      3  44.07736  47.35703   \n",
       "..   ..    ...    ...     ...     ...     ...    ...       ...       ...   \n",
       "210   2     47      1       5       1       3      1  54.44438  26.44669   \n",
       "14    1     51      0       6       1       3      4  41.06879  46.04102   \n",
       "77    1     48      0       2       1       3      5  33.27224  39.15091   \n",
       "149   2     43      1       4       2       1      1  53.88596  58.98788   \n",
       "81    1     49      1       6       1       2      2  46.41923  57.42353   \n",
       "\n",
       "     i.aqoc  \n",
       "26        1  \n",
       "134       0  \n",
       "107       0  \n",
       "266       0  \n",
       "68        1  \n",
       "..      ...  \n",
       "210       1  \n",
       "14        1  \n",
       "77        1  \n",
       "149       1  \n",
       "81        0  \n",
       "\n",
       "[245 rows x 10 columns]"
      ]
     },
     "execution_count": 342,
     "metadata": {},
     "output_type": "execute_result"
    }
   ],
   "source": [
    "strat_train_set"
   ]
  },
  {
   "cell_type": "code",
   "execution_count": 343,
   "metadata": {},
   "outputs": [
    {
     "data": {
      "text/plain": [
       "i.aqoc    1.000000\n",
       "com.t     0.194420\n",
       "i.age     0.173138\n",
       "i.sex     0.052859\n",
       "i.educ    0.009701\n",
       "pcs.sd   -0.084402\n",
       "mcs.sd   -0.098583\n",
       "i.insu   -0.124947\n",
       "i.seve   -0.142641\n",
       "pg       -0.168084\n",
       "Name: i.aqoc, dtype: float64"
      ]
     },
     "execution_count": 343,
     "metadata": {},
     "output_type": "execute_result"
    }
   ],
   "source": [
    "correlations = strat_train_set.corr()\n",
    "correlations[\"i.aqoc\"].sort_values(ascending=False)"
   ]
  },
  {
   "cell_type": "markdown",
   "metadata": {},
   "source": [
    "From the correlations we observe that the treatment (physician group) is negatively correlated with the outcome of interest. That is, physician group (pg) 1 is correlated with a lower satisfaction score."
   ]
  },
  {
   "cell_type": "code",
   "execution_count": 344,
   "metadata": {},
   "outputs": [
    {
     "data": {
      "image/png": "[encoded data removed]",
      "text/plain": [
       "<Figure size 864x576 with 100 Axes>"
      ]
     },
     "metadata": {
      "needs_background": "light"
     },
     "output_type": "display_data"
    }
   ],
   "source": [
    "from pandas.plotting import scatter_matrix\n",
    "\n",
    "scatter_matrix(strat_test_set, figsize=(12, 8))\n",
    "\n",
    "plt.show()"
   ]
  },
  {
   "cell_type": "markdown",
   "metadata": {},
   "source": [
    "From the visualisation we can see some variables seem to be correlated. Let's have a closer look at com.t against i.age (comorbidity against age)."
   ]
  },
  {
   "cell_type": "code",
   "execution_count": 345,
   "metadata": {},
   "outputs": [
    {
     "name": "stderr",
     "output_type": "stream",
     "text": [
      "'c' argument looks like a single numeric RGB or RGBA sequence, which should be avoided as value-mapping will have precedence in case its length matches with 'x' & 'y'.  Please use a 2-D array with a single row if you really want to specify the same RGB or RGBA value for all points.\n"
     ]
    },
    {
     "data": {
      "text/plain": [
       "<matplotlib.axes._subplots.AxesSubplot at 0x21fa9e0b400>"
      ]
     },
     "execution_count": 345,
     "metadata": {},
     "output_type": "execute_result"
    },
    {
     "data": {
      "image/png": "[encoded data removed]",
      "text/plain": [
       "<Figure size 432x288 with 1 Axes>"
      ]
     },
     "metadata": {
      "needs_background": "light"
     },
     "output_type": "display_data"
    }
   ],
   "source": [
    "strat_train_set.plot(kind=\"scatter\", y=\"com.t\", x=\"i.age\",\n",
    " alpha=0.5)"
   ]
  },
  {
   "cell_type": "markdown",
   "metadata": {},
   "source": [
    "There seems to be a positive correlation between age and comorbidity. Let's fit an OLS model to explore this further. "
   ]
  },
  {
   "cell_type": "code",
   "execution_count": 346,
   "metadata": {},
   "outputs": [],
   "source": [
    "import statsmodels.api as sm"
   ]
  },
  {
   "cell_type": "code",
   "execution_count": 347,
   "metadata": {},
   "outputs": [
    {
     "name": "stderr",
     "output_type": "stream",
     "text": [
      "C:\\Users\\stipp\\Anaconda3\\lib\\site-packages\\numpy\\core\\fromnumeric.py:2495: FutureWarning: Method .ptp is deprecated and will be removed in a future version. Use numpy.ptp instead.\n",
      "  return ptp(axis=axis, out=out, **kwargs)\n"
     ]
    }
   ],
   "source": [
    "results = sm.OLS(strat_train_set[\"com.t\"], sm.add_constant(strat_train_set[\"i.age\"])).fit(cov_type=\"HC1\")"
   ]
  },
  {
   "cell_type": "code",
   "execution_count": 348,
   "metadata": {},
   "outputs": [
    {
     "name": "stdout",
     "output_type": "stream",
     "text": [
      "                            OLS Regression Results                            \n",
      "==============================================================================\n",
      "Dep. Variable:                  com.t   R-squared:                       0.065\n",
      "Model:                            OLS   Adj. R-squared:                  0.061\n",
      "Method:                 Least Squares   F-statistic:                     17.05\n",
      "Date:                Thu, 21 Nov 2019   Prob (F-statistic):           5.01e-05\n",
      "Time:                        05:42:14   Log-Likelihood:                -419.55\n",
      "No. Observations:                 245   AIC:                             843.1\n",
      "Df Residuals:                     243   BIC:                             850.1\n",
      "Df Model:                           1                                         \n",
      "Covariance Type:                  HC1                                         \n",
      "==============================================================================\n",
      "                 coef    std err          z      P>|z|      [0.025      0.975]\n",
      "------------------------------------------------------------------------------\n",
      "const          0.5322      0.377      1.413      0.158      -0.206       1.270\n",
      "i.age          0.0403      0.010      4.129      0.000       0.021       0.059\n",
      "==============================================================================\n",
      "Omnibus:                       12.542   Durbin-Watson:                   2.045\n",
      "Prob(Omnibus):                  0.002   Jarque-Bera (JB):               12.970\n",
      "Skew:                           0.535   Prob(JB):                      0.00153\n",
      "Kurtosis:                       3.354   Cond. No.                         192.\n",
      "==============================================================================\n",
      "\n",
      "Warnings:\n",
      "[1] Standard Errors are heteroscedasticity robust (HC1)\n"
     ]
    }
   ],
   "source": [
    "print(results.summary())"
   ]
  },
  {
   "cell_type": "markdown",
   "metadata": {},
   "source": [
    "Let's run a t-test with"
   ]
  },
  {
   "cell_type": "markdown",
   "metadata": {},
   "source": [
    "$$ H_0 : \\beta = 0 \\ \\ \\ \\ vs. \\ \\ H_1:  \\beta \\ \\neq 0 $$"
   ]
  },
  {
   "cell_type": "markdown",
   "metadata": {},
   "source": [
    "where our model is"
   ]
  },
  {
   "cell_type": "markdown",
   "metadata": {},
   "source": [
    "$$ com_i = \\alpha + \\beta \\times age_i $$"
   ]
  },
  {
   "cell_type": "markdown",
   "metadata": {},
   "source": [
    "for $i=1,2,...,n$ where $n$ is the number of patients in the training set."
   ]
  },
  {
   "cell_type": "code",
   "execution_count": 349,
   "metadata": {},
   "outputs": [
    {
     "name": "stdout",
     "output_type": "stream",
     "text": [
      "                             Test for Constraints                             \n",
      "==============================================================================\n",
      "                 coef    std err          z      P>|z|      [0.025      0.975]\n",
      "------------------------------------------------------------------------------\n",
      "c0             0.0403      0.010      4.129      0.000       0.021       0.059\n",
      "==============================================================================\n"
     ]
    }
   ],
   "source": [
    "r = np.zeros_like(results.params)\n",
    "r[1] += 1\n",
    "T_test = results.t_test(r)\n",
    "print(T_test)"
   ]
  },
  {
   "cell_type": "markdown",
   "metadata": {},
   "source": [
    "From this we can see that the result, with a p-value of 0.000, is significant at the 5% significance level. That is, we can reject the null hypothesis and conclude that there is sufficient evidence to suggest that there is a correlation between age and comorbidity. We can plot the result below."
   ]
  },
  {
   "cell_type": "code",
   "execution_count": 350,
   "metadata": {},
   "outputs": [
    {
     "data": {
      "image/png": "[encoded data removed]",
      "text/plain": [
       "<Figure size 576x360 with 1 Axes>"
      ]
     },
     "metadata": {},
     "output_type": "display_data"
    }
   ],
   "source": [
    "import seaborn as sns; sns.set(color_codes=True)\n",
    "\n",
    "X_plot = np.linspace(0,30,60)\n",
    "plt.figure(figsize=(8, 5))\n",
    "\n",
    "ax= sns.regplot(x=strat_train_set[\"i.age\"], y=strat_train_set[\"com.t\"], color=\"g\", robust=True)\n",
    "plt.show()"
   ]
  },
  {
   "cell_type": "markdown",
   "metadata": {},
   "source": [
    "### A Benchmark Model"
   ]
  },
  {
   "cell_type": "markdown",
   "metadata": {},
   "source": [
    "Before we build the tree-based causal model, we can build a simple OLS model. We will use matching to control for the confounders and reduce selection bias. What we observe, for each i, is"
   ]
  },
  {
   "cell_type": "markdown",
   "metadata": {},
   "source": [
    "$$ E[Y_{1i} | T_i=1] - E[Y_{0i} | T_i=0] $$"
   ]
  },
  {
   "cell_type": "markdown",
   "metadata": {},
   "source": [
    "However we want find the average treatment effect"
   ]
  },
  {
   "cell_type": "markdown",
   "metadata": {},
   "source": [
    "$$ E[Y_{1i}-Y_{0i} | T_i=1] $$"
   ]
  },
  {
   "cell_type": "markdown",
   "metadata": {},
   "source": [
    "But there exists selection bias - which is bias that is systematically introduced, because"
   ]
  },
  {
   "cell_type": "markdown",
   "metadata": {},
   "source": [
    "$$ \n",
    "\\begin{align}\n",
    "E[Y_{1i} | T_i=1] - E[Y_{0i} | T_i=0] &= E[Y_{1i} | T_i=1] - E[Y_{0i} | T_i=1] + E[Y_{0i} | T_i=1] - E[Y_{0i} | T_i=0] \\\\\n",
    "&= E[Y_{1i}-Y_{0i} | T_i=1] + E[Y_{0i} | T_i=1] - E[Y_{0i} | T_i=0] \\\\\n",
    "observed \\ effect &= treatment \\ effect + selection \\ bias\n",
    "\\end{align}\n",
    "$$"
   ]
  },
  {
   "cell_type": "markdown",
   "metadata": {},
   "source": [
    "We can use matching to control for the confounders to reduce the selection bias as close as possible to zero such that we can observe the causal effect of each physician group on the satisfaction of the patients. We need to make a story to select which covariates we want to choose. We also need to check that the controls we introduce are \"good controls\", or at least \"neutral controls\". That means that two properties should hold: (1) aer determined prior to the process that leads from the regressor of\n",
    "interest (the treatment) to outcomes, and (2) are immutable characteristics of the units of observation.\n"
   ]
  },
  {
   "cell_type": "markdown",
   "metadata": {},
   "source": [
    "We need to control for the fact that patients across the treatments are systematically different in some way."
   ]
  },
  {
   "cell_type": "markdown",
   "metadata": {},
   "source": [
    "We choose mental comorbidity to control for the general positivity/negativity of the patient. The positivity of a patient is likely to influence the satisfaction rating the patient gives the physician and so this is an example of a neutral control. This is possibly good for precision as it could reduce the variance of the residual."
   ]
  },
  {
   "cell_type": "markdown",
   "metadata": {},
   "source": [
    "Another control we choose is \"severity\". If we consider health as a confounder, health may influence the treatment because a patient may choose to go to a certain doctor based on repuation. Then health is also influencing Y because if a patient is healthier, he/she is more likely to be satisfied with the physician. This is an example of a good control with which we are blocking the \"back-door\" from T to Y by introducing a proxy \"severity\" as a proxy to health."
   ]
  },
  {
   "cell_type": "markdown",
   "metadata": {},
   "source": [
    "Thus our model is"
   ]
  },
  {
   "cell_type": "markdown",
   "metadata": {},
   "source": [
    "$$ \\text{satisfaction}_i = \\alpha + \\beta \\times \\text{physician group}_i + \\zeta_1 \\times \\text{mental comorbidity}_i + \\zeta_2 \\times \\text{severity}_i + \\varepsilon_i $$"
   ]
  },
  {
   "cell_type": "markdown",
   "metadata": {},
   "source": [
    "Let's build this model in statsmodels and run the regression."
   ]
  },
  {
   "cell_type": "code",
   "execution_count": 351,
   "metadata": {},
   "outputs": [],
   "source": [
    "X = pd.concat([strat_train_set[\"pg\"], strat_train_set[\"com.t\"], strat_train_set[\"i.seve\"]], axis=1)"
   ]
  },
  {
   "cell_type": "code",
   "execution_count": 352,
   "metadata": {},
   "outputs": [],
   "source": [
    "X = sm.add_constant(X)"
   ]
  },
  {
   "cell_type": "code",
   "execution_count": 353,
   "metadata": {},
   "outputs": [],
   "source": [
    "y = strat_train_set[\"i.aqoc\"]"
   ]
  },
  {
   "cell_type": "code",
   "execution_count": 354,
   "metadata": {},
   "outputs": [
    {
     "name": "stdout",
     "output_type": "stream",
     "text": [
      "                            OLS Regression Results                            \n",
      "==============================================================================\n",
      "Dep. Variable:                 i.aqoc   R-squared:                       0.073\n",
      "Model:                            OLS   Adj. R-squared:                  0.061\n",
      "Method:                 Least Squares   F-statistic:                     8.261\n",
      "Date:                Thu, 21 Nov 2019   Prob (F-statistic):           2.97e-05\n",
      "Time:                        05:42:20   Log-Likelihood:                -151.21\n",
      "No. Observations:                 245   AIC:                             310.4\n",
      "Df Residuals:                     241   BIC:                             324.4\n",
      "Df Model:                           3                                         \n",
      "Covariance Type:                  HC1                                         \n",
      "==============================================================================\n",
      "                 coef    std err          z      P>|z|      [0.025      0.975]\n",
      "------------------------------------------------------------------------------\n",
      "const          0.9823      0.157      6.272      0.000       0.675       1.289\n",
      "pg            -0.1206      0.064     -1.873      0.061      -0.247       0.006\n",
      "com.t          0.0501      0.021      2.409      0.016       0.009       0.091\n",
      "i.seve        -0.0809      0.031     -2.640      0.008      -0.141      -0.021\n",
      "==============================================================================\n",
      "Omnibus:                      211.945   Durbin-Watson:                   2.061\n",
      "Prob(Omnibus):                  0.000   Jarque-Bera (JB):               33.772\n",
      "Skew:                          -0.650   Prob(JB):                     4.64e-08\n",
      "Kurtosis:                       1.728   Cond. No.                         24.3\n",
      "==============================================================================\n",
      "\n",
      "Warnings:\n",
      "[1] Standard Errors are heteroscedasticity robust (HC1)\n"
     ]
    }
   ],
   "source": [
    "model = sm.OLS(y, X)\n",
    "result2 = model.fit(cov_type=\"HC1\")\n",
    "print(result2.summary())"
   ]
  },
  {
   "cell_type": "markdown",
   "metadata": {},
   "source": [
    "As we can see from the results, there is a negative relationship of the physician group with patient satisifaction. However, the result is not significantly different to zero at the 5% significance level. Also, notice that the $R^2$ is near zero."
   ]
  },
  {
   "cell_type": "code",
   "execution_count": 355,
   "metadata": {},
   "outputs": [],
   "source": [
    "X_val = pd.concat([strat_val_set[\"pg\"], strat_val_set[\"com.t\"], strat_val_set[\"i.seve\"]], axis=1)"
   ]
  },
  {
   "cell_type": "code",
   "execution_count": 356,
   "metadata": {},
   "outputs": [],
   "source": [
    "val_pred = result2.predict(sm.add_constant(X_val))"
   ]
  },
  {
   "cell_type": "code",
   "execution_count": 357,
   "metadata": {},
   "outputs": [],
   "source": [
    "MSE_benchmark = np.dot((val_pred - strat_val_set[\"i.aqoc\"]).T,(val_pred - strat_val_set[\"i.aqoc\"])) / val_pred.shape[0]"
   ]
  },
  {
   "cell_type": "markdown",
   "metadata": {},
   "source": [
    "Let's see how the model predicts out-of-sample on the validation data"
   ]
  },
  {
   "cell_type": "code",
   "execution_count": 358,
   "metadata": {},
   "outputs": [
    {
     "name": "stdout",
     "output_type": "stream",
     "text": [
      "The Mean Squared Error for the Benchmark Model is: 0.2303\n"
     ]
    }
   ],
   "source": [
    "print(\"The Mean Squared Error for the Benchmark Model is:\", round(MSE_benchmark,4))"
   ]
  },
  {
   "cell_type": "markdown",
   "metadata": {},
   "source": [
    "### HTE Model"
   ]
  },
  {
   "cell_type": "markdown",
   "metadata": {},
   "source": [
    "Let's start by renaming the columns for clarity"
   ]
  },
  {
   "cell_type": "code",
   "execution_count": 359,
   "metadata": {},
   "outputs": [],
   "source": [
    "strat_train_set.columns = ['physician', 'age', 'sex', 'education', 'insurance', 'severity',\n",
    "                  'comorbidity', 'physical comorbidity', 'mental comorbidity', 'satisfaction']\n",
    "strat_val_set.columns = ['physician', 'age', 'sex', 'education', 'insurance', 'severity',\n",
    "                  'comorbidity', 'physical comorbidity', 'mental comorbidity', 'satisfaction']\n",
    "strat_test_set.columns = ['physician', 'age', 'sex', 'education', 'insurance', 'severity',\n",
    "                  'comorbidity', 'physical comorbidity', 'mental comorbidity', 'satisfaction']"
   ]
  },
  {
   "cell_type": "code",
   "execution_count": 360,
   "metadata": {},
   "outputs": [
    {
     "data": {
      "text/html": [
       "<div>\n",
       "<style scoped>\n",
       "    .dataframe tbody tr th:only-of-type {\n",
       "        vertical-align: middle;\n",
       "    }\n",
       "\n",
       "    .dataframe tbody tr th {\n",
       "        vertical-align: top;\n",
       "    }\n",
       "\n",
       "    .dataframe thead th {\n",
       "        text-align: right;\n",
       "    }\n",
       "</style>\n",
       "<table border=\"1\" class=\"dataframe\">\n",
       "  <thead>\n",
       "    <tr style=\"text-align: right;\">\n",
       "      <th></th>\n",
       "      <th>physician</th>\n",
       "      <th>age</th>\n",
       "      <th>sex</th>\n",
       "      <th>education</th>\n",
       "      <th>insurance</th>\n",
       "      <th>severity</th>\n",
       "      <th>comorbidity</th>\n",
       "      <th>physical comorbidity</th>\n",
       "      <th>mental comorbidity</th>\n",
       "      <th>satisfaction</th>\n",
       "    </tr>\n",
       "  </thead>\n",
       "  <tbody>\n",
       "    <tr>\n",
       "      <th>210</th>\n",
       "      <td>2</td>\n",
       "      <td>47</td>\n",
       "      <td>1</td>\n",
       "      <td>5</td>\n",
       "      <td>1</td>\n",
       "      <td>3</td>\n",
       "      <td>1</td>\n",
       "      <td>54.44438</td>\n",
       "      <td>26.44669</td>\n",
       "      <td>1</td>\n",
       "    </tr>\n",
       "    <tr>\n",
       "      <th>14</th>\n",
       "      <td>1</td>\n",
       "      <td>51</td>\n",
       "      <td>0</td>\n",
       "      <td>6</td>\n",
       "      <td>1</td>\n",
       "      <td>3</td>\n",
       "      <td>4</td>\n",
       "      <td>41.06879</td>\n",
       "      <td>46.04102</td>\n",
       "      <td>1</td>\n",
       "    </tr>\n",
       "    <tr>\n",
       "      <th>77</th>\n",
       "      <td>1</td>\n",
       "      <td>48</td>\n",
       "      <td>0</td>\n",
       "      <td>2</td>\n",
       "      <td>1</td>\n",
       "      <td>3</td>\n",
       "      <td>5</td>\n",
       "      <td>33.27224</td>\n",
       "      <td>39.15091</td>\n",
       "      <td>1</td>\n",
       "    </tr>\n",
       "    <tr>\n",
       "      <th>149</th>\n",
       "      <td>2</td>\n",
       "      <td>43</td>\n",
       "      <td>1</td>\n",
       "      <td>4</td>\n",
       "      <td>2</td>\n",
       "      <td>1</td>\n",
       "      <td>1</td>\n",
       "      <td>53.88596</td>\n",
       "      <td>58.98788</td>\n",
       "      <td>1</td>\n",
       "    </tr>\n",
       "    <tr>\n",
       "      <th>81</th>\n",
       "      <td>1</td>\n",
       "      <td>49</td>\n",
       "      <td>1</td>\n",
       "      <td>6</td>\n",
       "      <td>1</td>\n",
       "      <td>2</td>\n",
       "      <td>2</td>\n",
       "      <td>46.41923</td>\n",
       "      <td>57.42353</td>\n",
       "      <td>0</td>\n",
       "    </tr>\n",
       "  </tbody>\n",
       "</table>\n",
       "</div>"
      ],
      "text/plain": [
       "     physician  age  sex  education  insurance  severity  comorbidity  \\\n",
       "210          2   47    1          5          1         3            1   \n",
       "14           1   51    0          6          1         3            4   \n",
       "77           1   48    0          2          1         3            5   \n",
       "149          2   43    1          4          2         1            1   \n",
       "81           1   49    1          6          1         2            2   \n",
       "\n",
       "     physical comorbidity  mental comorbidity  satisfaction  \n",
       "210              54.44438            26.44669             1  \n",
       "14               41.06879            46.04102             1  \n",
       "77               33.27224            39.15091             1  \n",
       "149              53.88596            58.98788             1  \n",
       "81               46.41923            57.42353             0  "
      ]
     },
     "execution_count": 360,
     "metadata": {},
     "output_type": "execute_result"
    }
   ],
   "source": [
    "strat_train_set.tail()"
   ]
  },
  {
   "cell_type": "markdown",
   "metadata": {},
   "source": [
    "We now split the data into the features, outcomes and treatments as required for HTE (see appendix)"
   ]
  },
  {
   "cell_type": "code",
   "execution_count": 389,
   "metadata": {},
   "outputs": [
    {
     "data": {
      "text/plain": [
       "array([0, 0, 0, 0, 0, 0, 0, 0, 0, 0, 0, 0, 0, 0, 0, 0, 0, 0, 0, 0, 0, 0,\n",
       "       0, 0, 0, 0, 0, 0, 0, 0, 0, 0, 0, 0, 0, 0, 0, 0, 0, 0, 0, 0, 0, 0,\n",
       "       0, 0, 0, 0, 0, 0, 0, 0, 0, 0, 0, 0, 0, 0, 0, 0, 0, 0, 0, 0, 0, 0,\n",
       "       0, 0, 0, 0, 0, 0, 0, 0, 0, 0, 0, 0], dtype=int64)"
      ]
     },
     "execution_count": 389,
     "metadata": {},
     "output_type": "execute_result"
    }
   ],
   "source": [
    "y_train[y_train==0]"
   ]
  },
  {
   "cell_type": "code",
   "execution_count": 400,
   "metadata": {},
   "outputs": [],
   "source": [
    "y_train = strat_train_set[\"satisfaction\"].values\n",
    "y_train[y_train == 0] = -1\n",
    "X_train = strat_train_set.drop([\"satisfaction\", \"physician\"], axis=1).values\n",
    "treat_train = (strat_train_set[\"physician\"] - 1).values\n",
    "\n",
    "y_val = strat_val_set[\"satisfaction\"].values\n",
    "y_val[y_val == 0] = -1\n",
    "X_val = strat_val_set.drop([\"satisfaction\", \"physician\"], axis=1).values\n",
    "treat_val = (strat_val_set[\"physician\"] - 1).values\n",
    "\n",
    "y_test = strat_test_set[\"satisfaction\"].values\n",
    "y_test[y_test == 0] = -1\n",
    "X_test = strat_test_set.drop([\"satisfaction\", \"physician\"], axis=1).values\n",
    "treat_test = (strat_test_set[\"physician\"] - 1).values"
   ]
  },
  {
   "cell_type": "code",
   "execution_count": 401,
   "metadata": {},
   "outputs": [],
   "source": [
    "np.random.seed(0)"
   ]
  },
  {
   "cell_type": "code",
   "execution_count": 402,
   "metadata": {},
   "outputs": [],
   "source": [
    "from CTL.CTL import CausalTree"
   ]
  },
  {
   "cell_type": "code",
   "execution_count": 419,
   "metadata": {},
   "outputs": [],
   "source": [
    "ctlv = CausalTree(val_honest=True)\n",
    "ctlv.fit(X_train, y_train, treat_train)\n",
    "ctlv_predict = ctl.predict(X_val)"
   ]
  },
  {
   "cell_type": "code",
   "execution_count": 420,
   "metadata": {},
   "outputs": [
    {
     "name": "stdout",
     "output_type": "stream",
     "text": [
      "[-0.37037037 -0.66666667 -0.28132992  0.         -0.66666667 -0.28132992\n",
      " -0.28132992 -0.28132992 -0.28132992 -0.37037037 -0.37037037 -0.66666667\n",
      " -0.66666667 -0.28132992 -0.66666667 -0.66666667 -0.28132992 -0.66666667\n",
      " -0.66666667 -0.37037037 -0.66666667 -0.28132992 -0.66666667 -0.37037037\n",
      " -0.28132992  0.         -0.37037037 -0.66666667 -0.66666667 -0.66666667\n",
      " -0.28132992]\n"
     ]
    }
   ],
   "source": [
    "print(ctlv_predict*2)"
   ]
  },
  {
   "cell_type": "code",
   "execution_count": 421,
   "metadata": {},
   "outputs": [
    {
     "data": {
      "text/plain": [
       "array([-1,  1, -1, -1, -1,  1,  1,  1,  1, -1,  1, -1,  1,  1,  1,  1, -1,\n",
       "        1, -1,  1, -1,  1,  1,  1, -1,  1, -1,  1, -1,  1,  1],\n",
       "      dtype=int64)"
      ]
     },
     "execution_count": 421,
     "metadata": {},
     "output_type": "execute_result"
    }
   ],
   "source": [
    "y_val"
   ]
  },
  {
   "cell_type": "code",
   "execution_count": 422,
   "metadata": {},
   "outputs": [],
   "source": [
    "MSE_benchmark = np.dot((ctlv_predict - y_val).T,(ctlv_predict - y_val)) / y_val.shape[0]"
   ]
  },
  {
   "cell_type": "code",
   "execution_count": 423,
   "metadata": {},
   "outputs": [
    {
     "ename": "ModuleNotFoundError",
     "evalue": "No module named 'causalml'",
     "output_type": "error",
     "traceback": [
      "\u001b[1;31m---------------------------------------------------------------------------\u001b[0m",
      "\u001b[1;31mModuleNotFoundError\u001b[0m                       Traceback (most recent call last)",
      "\u001b[1;32m<ipython-input-423-c7f98ce3dc8b>\u001b[0m in \u001b[0;36m<module>\u001b[1;34m\u001b[0m\n\u001b[1;32m----> 1\u001b[1;33m \u001b[1;32mfrom\u001b[0m \u001b[0mcausalml\u001b[0m\u001b[1;33m.\u001b[0m\u001b[0minference\u001b[0m\u001b[1;33m.\u001b[0m\u001b[0mtree\u001b[0m \u001b[1;32mimport\u001b[0m \u001b[0mUpliftTreeClassifier\u001b[0m\u001b[1;33m,\u001b[0m \u001b[0mUpliftRandomForestClassifier\u001b[0m\u001b[1;33m\u001b[0m\u001b[1;33m\u001b[0m\u001b[0m\n\u001b[0m",
      "\u001b[1;31mModuleNotFoundError\u001b[0m: No module named 'causalml'"
     ]
    }
   ],
   "source": [
    "from causalml.inference.tree import UpliftTreeClassifier, UpliftRandomForestClassifier"
   ]
  },
  {
   "cell_type": "code",
   "execution_count": 418,
   "metadata": {},
   "outputs": [
    {
     "data": {
      "text/plain": [
       "1.1604319925398197"
      ]
     },
     "execution_count": 418,
     "metadata": {},
     "output_type": "execute_result"
    }
   ],
   "source": [
    "MSE_benchmark"
   ]
  },
  {
   "cell_type": "markdown",
   "metadata": {},
   "source": [
    "### Appendix\n",
    "\n",
    "#### Heterogeneous treatment effect estimation\n",
    "\n",
    "We are trying to estimate the conditional average treatment effect (CATE) using a set of features. We define the CATE as:"
   ]
  },
  {
   "cell_type": "markdown",
   "metadata": {},
   "source": [
    "$$\\tau(x) := E[Y_{1i}-Y_{i0} | X_i = \\textbf{x}]$$"
   ]
  },
  {
   "cell_type": "markdown",
   "metadata": {},
   "source": [
    "We need to find an estimate $\\hat{\\tau}(x)$ for the CATE. Clearly we need to partition the feature space. Our dataset, S, needs to have the form:"
   ]
  },
  {
   "cell_type": "markdown",
   "metadata": {},
   "source": [
    "$$ S = \\{ { \\textbf{X}_i, Y_i, T_i): \\textbf{X}_i \\in \\mathcal{X}} \\} $$"
   ]
  },
  {
   "cell_type": "markdown",
   "metadata": {},
   "source": [
    "Where $Y_i$ is the outcome, $T_i$ is the binary variable for the treatment, and $\\textbf{X}_i$ the feature vector containing the other covariates."
   ]
  },
  {
   "cell_type": "markdown",
   "metadata": {},
   "source": [
    "A partitioning of the feature space into L partitions is defined as"
   ]
  },
  {
   "cell_type": "markdown",
   "metadata": {},
   "source": [
    "$$ \\mathcal{X} = \\mathcal{X}_1 \\cup \\mathcal{X}_2 \\cup ... \\cup \\mathcal{X}_L $$"
   ]
  },
  {
   "cell_type": "markdown",
   "metadata": {},
   "source": [
    "The subsets should be mutually exclusive and collectively exhaustive of $\\mathcal{X}$. Then"
   ]
  },
  {
   "cell_type": "markdown",
   "metadata": {},
   "source": [
    "$$ S_l = \\{ { \\textbf{X}_i, Y_i, T_i): \\textbf{X}_i \\in \\mathcal{X}_l} \\} $$"
   ]
  },
  {
   "cell_type": "markdown",
   "metadata": {},
   "source": [
    "Now it follows that the conditional mean for the outcome and control in a particular partition $\\mathcal{X}_l$ is defined as:"
   ]
  },
  {
   "cell_type": "markdown",
   "metadata": {},
   "source": [
    "$$ \\hat{\\mu}_t(S_l) = \\frac{1}{N_{l_t}} \\sum_{T_i=t, i \\in S_l}^{} Y_i $$"
   ]
  },
  {
   "cell_type": "markdown",
   "metadata": {},
   "source": [
    "where  $t \\in {0,1} : \\hat{\\mu}_1, \\hat{\\mu}_2 $ are the conditional means. Capital N is indexed by the partition's treatment and control group. With this information we can find the average causal effect (ACE) for a given partitiond defined by:"
   ]
  },
  {
   "cell_type": "markdown",
   "metadata": {},
   "source": [
    "$$ \\hat{\\tau}(S_l) = \\hat{\\mu}_1(S_l) - \\hat{\\mu}_0(S_l) $$"
   ]
  },
  {
   "cell_type": "markdown",
   "metadata": {},
   "source": [
    "We can use trees for heterogeneous treatment effect estimation by representing each partition by a tree. Trees are built greedily to maximise F, a partition measure that measures the average causal effect for the given partition. For example, if we want to split a particular node, the algorith will split in such a way as to maximise \"F\" on its children.\n",
    "\n",
    "It can be beneficial to add a penalty to the splitting criteria. This is called the \"honest\" approach (CT-H)."
   ]
  }
 ],
 "metadata": {
  "kernelspec": {
   "display_name": "Python 3",
   "language": "python",
   "name": "python3"
  },
  "language_info": {
   "codemirror_mode": {
    "name": "ipython",
    "version": 3
   },
   "file_extension": ".py",
   "mimetype": "text/x-python",
   "name": "python",
   "nbconvert_exporter": "python",
   "pygments_lexer": "ipython3",
   "version": "3.7.1"
  }
 },
 "nbformat": 4,
 "nbformat_minor": 2
}

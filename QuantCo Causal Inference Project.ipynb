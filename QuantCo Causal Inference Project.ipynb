{
 "cells": [
  {
   "cell_type": "markdown",
   "metadata": {},
   "source": [
    "### $\\textbf{QuantCo Causal Inference Project}$\n",
    "##### $\\textit{Wian Stipp}$"
   ]
  },
  {
   "cell_type": "markdown",
   "metadata": {},
   "source": [
    "### Describing The Problem:\n",
    "\n",
    "We are using a study to compare the quality of services provided by two physician groups for asthma patients in California. Let $Y_i(z)$ be the score (1 = satisfactory, 0 = non-satisfactory) given by patient $i$ for the treatment recieved by physician  group $z \\in \\{1,2\\}$ \n",
    "Besides the treatment variable and the outcome variable we have a list of covariates: 'age', 'sex', 'education', 'insurance','drug coverage', 'severity','comorbidity', 'physical comorbidity', 'mental comorbidity'.\n",
    "\n",
    "Comorbidity is defined as: the presence of one or more additional conditions co-occurring with a primary condition; in the countable sense of the term, a comorbidity is each additional condition. The additional condition may also be a behavioral or mental disorder.\n",
    "\n",
    "We assume the treatment assignment is ignorable conditional on all the pretreatment variables\n",
    "\n",
    "#### The Objective\n",
    "\n",
    "We are using a study to compare the quality of services provided by two physician groups for asthma patients in California. Our objective is to find the average treatment (causal) effect of each physician compared to the other. That is if $p_z$ is the fraction of patients that would be satisfied with the service of $z$ if all patients were treated by the same, then we want to find $p_1 - p_2$.\n",
    "\n",
    "here is, however, a more interesting insight we can find; We can find which types of people would be more satisified with each of the physician groups. This is a problem known as heterogeneous treatment effect (HTE) estimation. In this project, we will explore how a causal tree-based learning method can find heterogeneity in the treatment effects.\n",
    "\n",
    "\n",
    "#### The Data\n",
    "\n",
    "The data is sourced from http://www.biostat.jhsph.edu/~cfrangak/biostat_causal/asthma.txt. We are going to split the data into a training, validation and testing subset such that we can test the model on out-of-sample data.\n",
    "\n",
    "#### The Model\n",
    "\n",
    "We are primarily using the work published 2019: \"Learning Triggers for Heterogeneous Treatment Effects\" by Christopher Tran and Elena Zheleva."
   ]
  },
  {
   "cell_type": "markdown",
   "metadata": {},
   "source": [
    "# The Project"
   ]
  },
  {
   "cell_type": "markdown",
   "metadata": {},
   "source": [
    "## Data Visualisation and Preparation"
   ]
  },
  {
   "cell_type": "markdown",
   "metadata": {},
   "source": [
    "We first start off by importing the relevant data and packages we will be using."
   ]
  },
  {
   "cell_type": "code",
   "execution_count": 30,
   "metadata": {},
   "outputs": [],
   "source": [
    "import numpy as np\n",
    "import pandas as pd\n",
    "import matplotlib.pyplot as plt\n",
    "%matplotlib inline"
   ]
  },
  {
   "cell_type": "code",
   "execution_count": 31,
   "metadata": {},
   "outputs": [],
   "source": [
    "dataframe = pd.read_csv('data/asthma.txt', delimiter=' ', index_col=None)"
   ]
  },
  {
   "cell_type": "markdown",
   "metadata": {},
   "source": [
    "Let's explore the data a little bit"
   ]
  },
  {
   "cell_type": "code",
   "execution_count": 32,
   "metadata": {},
   "outputs": [
    {
     "data": {
      "text/html": [
       "<div>\n",
       "<style scoped>\n",
       "    .dataframe tbody tr th:only-of-type {\n",
       "        vertical-align: middle;\n",
       "    }\n",
       "\n",
       "    .dataframe tbody tr th {\n",
       "        vertical-align: top;\n",
       "    }\n",
       "\n",
       "    .dataframe thead th {\n",
       "        text-align: right;\n",
       "    }\n",
       "</style>\n",
       "<table border=\"1\" class=\"dataframe\">\n",
       "  <thead>\n",
       "    <tr style=\"text-align: right;\">\n",
       "      <th></th>\n",
       "      <th>pg</th>\n",
       "      <th>i.age</th>\n",
       "      <th>i.sex</th>\n",
       "      <th>i.educ</th>\n",
       "      <th>i.insu</th>\n",
       "      <th>i.drug</th>\n",
       "      <th>i.seve</th>\n",
       "      <th>com.t</th>\n",
       "      <th>pcs.sd</th>\n",
       "      <th>mcs.sd</th>\n",
       "      <th>i.aqoc</th>\n",
       "    </tr>\n",
       "  </thead>\n",
       "  <tbody>\n",
       "    <tr>\n",
       "      <th>0</th>\n",
       "      <td>1</td>\n",
       "      <td>36</td>\n",
       "      <td>0</td>\n",
       "      <td>5</td>\n",
       "      <td>1</td>\n",
       "      <td>1</td>\n",
       "      <td>2</td>\n",
       "      <td>4</td>\n",
       "      <td>49.97533</td>\n",
       "      <td>49.57280</td>\n",
       "      <td>1</td>\n",
       "    </tr>\n",
       "    <tr>\n",
       "      <th>1</th>\n",
       "      <td>1</td>\n",
       "      <td>37</td>\n",
       "      <td>1</td>\n",
       "      <td>6</td>\n",
       "      <td>2</td>\n",
       "      <td>1</td>\n",
       "      <td>3</td>\n",
       "      <td>3</td>\n",
       "      <td>40.93979</td>\n",
       "      <td>56.11393</td>\n",
       "      <td>1</td>\n",
       "    </tr>\n",
       "    <tr>\n",
       "      <th>2</th>\n",
       "      <td>1</td>\n",
       "      <td>43</td>\n",
       "      <td>1</td>\n",
       "      <td>5</td>\n",
       "      <td>1</td>\n",
       "      <td>1</td>\n",
       "      <td>4</td>\n",
       "      <td>3</td>\n",
       "      <td>50.32495</td>\n",
       "      <td>57.11961</td>\n",
       "      <td>1</td>\n",
       "    </tr>\n",
       "    <tr>\n",
       "      <th>3</th>\n",
       "      <td>1</td>\n",
       "      <td>39</td>\n",
       "      <td>1</td>\n",
       "      <td>6</td>\n",
       "      <td>1</td>\n",
       "      <td>1</td>\n",
       "      <td>4</td>\n",
       "      <td>1</td>\n",
       "      <td>49.34402</td>\n",
       "      <td>49.65159</td>\n",
       "      <td>1</td>\n",
       "    </tr>\n",
       "    <tr>\n",
       "      <th>4</th>\n",
       "      <td>1</td>\n",
       "      <td>46</td>\n",
       "      <td>1</td>\n",
       "      <td>1</td>\n",
       "      <td>2</td>\n",
       "      <td>1</td>\n",
       "      <td>4</td>\n",
       "      <td>0</td>\n",
       "      <td>37.37425</td>\n",
       "      <td>52.95411</td>\n",
       "      <td>0</td>\n",
       "    </tr>\n",
       "  </tbody>\n",
       "</table>\n",
       "</div>"
      ],
      "text/plain": [
       "   pg  i.age  i.sex  i.educ  i.insu  i.drug  i.seve  com.t    pcs.sd  \\\n",
       "0   1     36      0       5       1       1       2      4  49.97533   \n",
       "1   1     37      1       6       2       1       3      3  40.93979   \n",
       "2   1     43      1       5       1       1       4      3  50.32495   \n",
       "3   1     39      1       6       1       1       4      1  49.34402   \n",
       "4   1     46      1       1       2       1       4      0  37.37425   \n",
       "\n",
       "     mcs.sd  i.aqoc  \n",
       "0  49.57280       1  \n",
       "1  56.11393       1  \n",
       "2  57.11961       1  \n",
       "3  49.65159       1  \n",
       "4  52.95411       0  "
      ]
     },
     "execution_count": 32,
     "metadata": {},
     "output_type": "execute_result"
    }
   ],
   "source": [
    "dataframe.head()"
   ]
  },
  {
   "cell_type": "code",
   "execution_count": 33,
   "metadata": {},
   "outputs": [
    {
     "data": {
      "text/html": [
       "<div>\n",
       "<style scoped>\n",
       "    .dataframe tbody tr th:only-of-type {\n",
       "        vertical-align: middle;\n",
       "    }\n",
       "\n",
       "    .dataframe tbody tr th {\n",
       "        vertical-align: top;\n",
       "    }\n",
       "\n",
       "    .dataframe thead th {\n",
       "        text-align: right;\n",
       "    }\n",
       "</style>\n",
       "<table border=\"1\" class=\"dataframe\">\n",
       "  <thead>\n",
       "    <tr style=\"text-align: right;\">\n",
       "      <th></th>\n",
       "      <th>pg</th>\n",
       "      <th>i.age</th>\n",
       "      <th>i.sex</th>\n",
       "      <th>i.educ</th>\n",
       "      <th>i.insu</th>\n",
       "      <th>i.drug</th>\n",
       "      <th>i.seve</th>\n",
       "      <th>com.t</th>\n",
       "      <th>pcs.sd</th>\n",
       "      <th>mcs.sd</th>\n",
       "      <th>i.aqoc</th>\n",
       "    </tr>\n",
       "  </thead>\n",
       "  <tbody>\n",
       "    <tr>\n",
       "      <th>count</th>\n",
       "      <td>276.000000</td>\n",
       "      <td>276.000000</td>\n",
       "      <td>276.000000</td>\n",
       "      <td>276.000000</td>\n",
       "      <td>276.000000</td>\n",
       "      <td>276.000000</td>\n",
       "      <td>276.000000</td>\n",
       "      <td>276.000000</td>\n",
       "      <td>276.000000</td>\n",
       "      <td>276.000000</td>\n",
       "      <td>276.000000</td>\n",
       "    </tr>\n",
       "    <tr>\n",
       "      <th>mean</th>\n",
       "      <td>1.623188</td>\n",
       "      <td>39.960145</td>\n",
       "      <td>0.699275</td>\n",
       "      <td>4.818841</td>\n",
       "      <td>1.478261</td>\n",
       "      <td>0.981884</td>\n",
       "      <td>2.615942</td>\n",
       "      <td>2.173913</td>\n",
       "      <td>45.649891</td>\n",
       "      <td>48.588685</td>\n",
       "      <td>0.673913</td>\n",
       "    </tr>\n",
       "    <tr>\n",
       "      <th>std</th>\n",
       "      <td>0.485467</td>\n",
       "      <td>8.790193</td>\n",
       "      <td>0.459406</td>\n",
       "      <td>0.970365</td>\n",
       "      <td>0.908284</td>\n",
       "      <td>0.133613</td>\n",
       "      <td>0.924986</td>\n",
       "      <td>1.454338</td>\n",
       "      <td>10.227349</td>\n",
       "      <td>9.785507</td>\n",
       "      <td>0.469631</td>\n",
       "    </tr>\n",
       "    <tr>\n",
       "      <th>min</th>\n",
       "      <td>1.000000</td>\n",
       "      <td>19.000000</td>\n",
       "      <td>0.000000</td>\n",
       "      <td>1.000000</td>\n",
       "      <td>1.000000</td>\n",
       "      <td>0.000000</td>\n",
       "      <td>1.000000</td>\n",
       "      <td>0.000000</td>\n",
       "      <td>9.176023</td>\n",
       "      <td>13.458770</td>\n",
       "      <td>0.000000</td>\n",
       "    </tr>\n",
       "    <tr>\n",
       "      <th>25%</th>\n",
       "      <td>1.000000</td>\n",
       "      <td>34.000000</td>\n",
       "      <td>0.000000</td>\n",
       "      <td>4.000000</td>\n",
       "      <td>1.000000</td>\n",
       "      <td>1.000000</td>\n",
       "      <td>2.000000</td>\n",
       "      <td>1.000000</td>\n",
       "      <td>39.905275</td>\n",
       "      <td>43.790342</td>\n",
       "      <td>0.000000</td>\n",
       "    </tr>\n",
       "    <tr>\n",
       "      <th>50%</th>\n",
       "      <td>2.000000</td>\n",
       "      <td>40.000000</td>\n",
       "      <td>1.000000</td>\n",
       "      <td>5.000000</td>\n",
       "      <td>1.000000</td>\n",
       "      <td>1.000000</td>\n",
       "      <td>3.000000</td>\n",
       "      <td>2.000000</td>\n",
       "      <td>47.586820</td>\n",
       "      <td>50.667165</td>\n",
       "      <td>1.000000</td>\n",
       "    </tr>\n",
       "    <tr>\n",
       "      <th>75%</th>\n",
       "      <td>2.000000</td>\n",
       "      <td>47.000000</td>\n",
       "      <td>1.000000</td>\n",
       "      <td>6.000000</td>\n",
       "      <td>2.000000</td>\n",
       "      <td>1.000000</td>\n",
       "      <td>3.000000</td>\n",
       "      <td>3.000000</td>\n",
       "      <td>53.696978</td>\n",
       "      <td>56.036845</td>\n",
       "      <td>1.000000</td>\n",
       "    </tr>\n",
       "    <tr>\n",
       "      <th>max</th>\n",
       "      <td>2.000000</td>\n",
       "      <td>55.000000</td>\n",
       "      <td>1.000000</td>\n",
       "      <td>6.000000</td>\n",
       "      <td>5.000000</td>\n",
       "      <td>1.000000</td>\n",
       "      <td>4.000000</td>\n",
       "      <td>9.000000</td>\n",
       "      <td>65.338440</td>\n",
       "      <td>65.496670</td>\n",
       "      <td>1.000000</td>\n",
       "    </tr>\n",
       "  </tbody>\n",
       "</table>\n",
       "</div>"
      ],
      "text/plain": [
       "               pg       i.age       i.sex      i.educ      i.insu      i.drug  \\\n",
       "count  276.000000  276.000000  276.000000  276.000000  276.000000  276.000000   \n",
       "mean     1.623188   39.960145    0.699275    4.818841    1.478261    0.981884   \n",
       "std      0.485467    8.790193    0.459406    0.970365    0.908284    0.133613   \n",
       "min      1.000000   19.000000    0.000000    1.000000    1.000000    0.000000   \n",
       "25%      1.000000   34.000000    0.000000    4.000000    1.000000    1.000000   \n",
       "50%      2.000000   40.000000    1.000000    5.000000    1.000000    1.000000   \n",
       "75%      2.000000   47.000000    1.000000    6.000000    2.000000    1.000000   \n",
       "max      2.000000   55.000000    1.000000    6.000000    5.000000    1.000000   \n",
       "\n",
       "           i.seve       com.t      pcs.sd      mcs.sd      i.aqoc  \n",
       "count  276.000000  276.000000  276.000000  276.000000  276.000000  \n",
       "mean     2.615942    2.173913   45.649891   48.588685    0.673913  \n",
       "std      0.924986    1.454338   10.227349    9.785507    0.469631  \n",
       "min      1.000000    0.000000    9.176023   13.458770    0.000000  \n",
       "25%      2.000000    1.000000   39.905275   43.790342    0.000000  \n",
       "50%      3.000000    2.000000   47.586820   50.667165    1.000000  \n",
       "75%      3.000000    3.000000   53.696978   56.036845    1.000000  \n",
       "max      4.000000    9.000000   65.338440   65.496670    1.000000  "
      ]
     },
     "execution_count": 33,
     "metadata": {},
     "output_type": "execute_result"
    }
   ],
   "source": [
    "dataframe.describe()"
   ]
  },
  {
   "cell_type": "code",
   "execution_count": 34,
   "metadata": {
    "scrolled": true
   },
   "outputs": [
    {
     "name": "stdout",
     "output_type": "stream",
     "text": [
      "<class 'pandas.core.frame.DataFrame'>\n",
      "RangeIndex: 276 entries, 0 to 275\n",
      "Data columns (total 11 columns):\n",
      "pg        276 non-null int64\n",
      "i.age     276 non-null int64\n",
      "i.sex     276 non-null int64\n",
      "i.educ    276 non-null int64\n",
      "i.insu    276 non-null int64\n",
      "i.drug    276 non-null int64\n",
      "i.seve    276 non-null int64\n",
      "com.t     276 non-null int64\n",
      "pcs.sd    276 non-null float64\n",
      "mcs.sd    276 non-null float64\n",
      "i.aqoc    276 non-null int64\n",
      "dtypes: float64(2), int64(9)\n",
      "memory usage: 23.8 KB\n"
     ]
    }
   ],
   "source": [
    "dataframe.info()"
   ]
  },
  {
   "cell_type": "code",
   "execution_count": 41,
   "metadata": {},
   "outputs": [
    {
     "data": {
      "image/png": "[encoded data removed]",
      "text/plain": [
       "<Figure size 1440x1080 with 12 Axes>"
      ]
     },
     "metadata": {
      "needs_background": "light"
     },
     "output_type": "display_data"
    }
   ],
   "source": [
    "import matplotlib.pyplot as plt\n",
    "dataframe.hist(bins=50, figsize=(20,15))\n",
    "plt.show()"
   ]
  },
  {
   "cell_type": "markdown",
   "metadata": {},
   "source": [
    "It seems like the covariate i.drug is heavily imbalanced and so won't add much value to our model (apart from making us more likely to overfit), and therefore we can discard it.\n",
    "\n",
    "Besides that, the rest of the data looks well distributed with a few covariates taking a log-normal looking shape."
   ]
  },
  {
   "cell_type": "code",
   "execution_count": 42,
   "metadata": {},
   "outputs": [],
   "source": [
    "dataframe = dataframe.drop([\"i.drug\"], axis=1)"
   ]
  },
  {
   "cell_type": "code",
   "execution_count": 44,
   "metadata": {},
   "outputs": [
    {
     "data": {
      "text/html": [
       "<div>\n",
       "<style scoped>\n",
       "    .dataframe tbody tr th:only-of-type {\n",
       "        vertical-align: middle;\n",
       "    }\n",
       "\n",
       "    .dataframe tbody tr th {\n",
       "        vertical-align: top;\n",
       "    }\n",
       "\n",
       "    .dataframe thead th {\n",
       "        text-align: right;\n",
       "    }\n",
       "</style>\n",
       "<table border=\"1\" class=\"dataframe\">\n",
       "  <thead>\n",
       "    <tr style=\"text-align: right;\">\n",
       "      <th></th>\n",
       "      <th>pg</th>\n",
       "      <th>i.age</th>\n",
       "      <th>i.sex</th>\n",
       "      <th>i.educ</th>\n",
       "      <th>i.insu</th>\n",
       "      <th>i.seve</th>\n",
       "      <th>com.t</th>\n",
       "      <th>pcs.sd</th>\n",
       "      <th>mcs.sd</th>\n",
       "      <th>i.aqoc</th>\n",
       "    </tr>\n",
       "  </thead>\n",
       "  <tbody>\n",
       "    <tr>\n",
       "      <th>0</th>\n",
       "      <td>1</td>\n",
       "      <td>36</td>\n",
       "      <td>0</td>\n",
       "      <td>5</td>\n",
       "      <td>1</td>\n",
       "      <td>2</td>\n",
       "      <td>4</td>\n",
       "      <td>49.97533</td>\n",
       "      <td>49.57280</td>\n",
       "      <td>1</td>\n",
       "    </tr>\n",
       "    <tr>\n",
       "      <th>1</th>\n",
       "      <td>1</td>\n",
       "      <td>37</td>\n",
       "      <td>1</td>\n",
       "      <td>6</td>\n",
       "      <td>2</td>\n",
       "      <td>3</td>\n",
       "      <td>3</td>\n",
       "      <td>40.93979</td>\n",
       "      <td>56.11393</td>\n",
       "      <td>1</td>\n",
       "    </tr>\n",
       "    <tr>\n",
       "      <th>2</th>\n",
       "      <td>1</td>\n",
       "      <td>43</td>\n",
       "      <td>1</td>\n",
       "      <td>5</td>\n",
       "      <td>1</td>\n",
       "      <td>4</td>\n",
       "      <td>3</td>\n",
       "      <td>50.32495</td>\n",
       "      <td>57.11961</td>\n",
       "      <td>1</td>\n",
       "    </tr>\n",
       "    <tr>\n",
       "      <th>3</th>\n",
       "      <td>1</td>\n",
       "      <td>39</td>\n",
       "      <td>1</td>\n",
       "      <td>6</td>\n",
       "      <td>1</td>\n",
       "      <td>4</td>\n",
       "      <td>1</td>\n",
       "      <td>49.34402</td>\n",
       "      <td>49.65159</td>\n",
       "      <td>1</td>\n",
       "    </tr>\n",
       "    <tr>\n",
       "      <th>4</th>\n",
       "      <td>1</td>\n",
       "      <td>46</td>\n",
       "      <td>1</td>\n",
       "      <td>1</td>\n",
       "      <td>2</td>\n",
       "      <td>4</td>\n",
       "      <td>0</td>\n",
       "      <td>37.37425</td>\n",
       "      <td>52.95411</td>\n",
       "      <td>0</td>\n",
       "    </tr>\n",
       "  </tbody>\n",
       "</table>\n",
       "</div>"
      ],
      "text/plain": [
       "   pg  i.age  i.sex  i.educ  i.insu  i.seve  com.t    pcs.sd    mcs.sd  i.aqoc\n",
       "0   1     36      0       5       1       2      4  49.97533  49.57280       1\n",
       "1   1     37      1       6       2       3      3  40.93979  56.11393       1\n",
       "2   1     43      1       5       1       4      3  50.32495  57.11961       1\n",
       "3   1     39      1       6       1       4      1  49.34402  49.65159       1\n",
       "4   1     46      1       1       2       4      0  37.37425  52.95411       0"
      ]
     },
     "execution_count": 44,
     "metadata": {},
     "output_type": "execute_result"
    }
   ],
   "source": [
    "dataframe.head()"
   ]
  },
  {
   "cell_type": "markdown",
   "metadata": {},
   "source": [
    "One thing to notice is that the \"pg\" variable is labeled with {1,2}. Let's relabel this to avoid confusion with convention."
   ]
  },
  {
   "cell_type": "code",
   "execution_count": 52,
   "metadata": {},
   "outputs": [],
   "source": [
    "dataframe[dataframe[\"pg\"] == 2] = 1\n",
    "dataframe[dataframe[\"pg\"] == 1] = 0"
   ]
  },
  {
   "cell_type": "markdown",
   "metadata": {},
   "source": [
    "Now at this stage we should set some data aside for testing and validation. If we don't do so we are likely to add bias into the model and to overfit (data snooping bias). Since the dataset is relatively small, we use stratified sampling to ensure that the data is as representative of the population as possible with respect to the treatment variable."
   ]
  },
  {
   "cell_type": "code",
   "execution_count": 45,
   "metadata": {},
   "outputs": [],
   "source": [
    "from sklearn.model_selection import StratifiedShuffleSplit"
   ]
  },
  {
   "cell_type": "code",
   "execution_count": 49,
   "metadata": {},
   "outputs": [],
   "source": [
    "split = StratifiedShuffleSplit(n_splits=1, test_size=0.1, random_state=12)\n",
    "for train_index, test_index in split.split(dataframe, dataframe[\"pg\"]):\n",
    "    strat_train_set = dataframe.loc[train_index]\n",
    "    strat_test_set = dataframe.loc[test_index]"
   ]
  },
  {
   "cell_type": "markdown",
   "metadata": {},
   "source": [
    "We can now explore the correlations between variables to check for any multicollinearity problems that could arise (that would also lead to a high variance model)."
   ]
  },
  {
   "cell_type": "code",
   "execution_count": 63,
   "metadata": {},
   "outputs": [
    {
     "data": {
      "text/plain": [
       "i.aqoc    1.000000\n",
       "com.t     0.192830\n",
       "i.age     0.168820\n",
       "i.sex     0.052145\n",
       "i.educ    0.021557\n",
       "pcs.sd   -0.077443\n",
       "mcs.sd   -0.098633\n",
       "i.insu   -0.123758\n",
       "i.seve   -0.144693\n",
       "pg       -0.154187\n",
       "Name: i.aqoc, dtype: float64"
      ]
     },
     "execution_count": 63,
     "metadata": {},
     "output_type": "execute_result"
    }
   ],
   "source": [
    "correlations = strat_train_set.corr()\n",
    "correlations[\"i.aqoc\"].sort_values(ascending=False)"
   ]
  },
  {
   "cell_type": "markdown",
   "metadata": {},
   "source": [
    "From the correlations we observe that the treatment (physician group) is negatively correlated with the outcome of interest. That is, physician group (pg) 1 is correlated with a lower satisfaction score."
   ]
  },
  {
   "cell_type": "markdown",
   "metadata": {},
   "source": [
    "### Appendix\n",
    "\n",
    "#### Heterogeneous treatment effect estimation\n",
    "\n",
    "We are trying to estimate the conditional average treatment effect (CATE) using a set of features. We define the CATE as:"
   ]
  },
  {
   "cell_type": "markdown",
   "metadata": {},
   "source": [
    "$$\\tau(x) := E[Y_{1i}-Y_{i0} | X_i = \\textbf{x}]$$"
   ]
  },
  {
   "cell_type": "markdown",
   "metadata": {},
   "source": [
    "We need to find an estimate $\\hat{\\tau}(x)$ for the CATE. Clearly we need to partition the feature space. Our dataset, S, needs to have the form:"
   ]
  },
  {
   "cell_type": "markdown",
   "metadata": {},
   "source": [
    "$$ S = \\{ { \\textbf{X}_i, Y_i, T_i): \\textbf{X}_i \\in \\mathcal{X}} \\} $$"
   ]
  },
  {
   "cell_type": "markdown",
   "metadata": {},
   "source": [
    "Where $Y_i$ is the outcome, $T_i$ is the binary variable for the treatment, and $\\textbf{X}_i$ the feature vector containing the other covariates."
   ]
  },
  {
   "cell_type": "markdown",
   "metadata": {},
   "source": [
    "A partitioning of the feature space into L partitions is defined as"
   ]
  },
  {
   "cell_type": "markdown",
   "metadata": {},
   "source": [
    "$$ \\mathcal{X} = \\mathcal{X}_1 \\cup \\mathcal{X}_2 \\cup ... \\cup \\mathcal{X}_L $$"
   ]
  },
  {
   "cell_type": "markdown",
   "metadata": {},
   "source": [
    "The subsets should be mutually exclusive and collectively exhaustive of $\\mathcal{X}$. Then"
   ]
  },
  {
   "cell_type": "markdown",
   "metadata": {},
   "source": [
    "$$ S_l = \\{ { \\textbf{X}_i, Y_i, T_i): \\textbf{X}_i \\in \\mathcal{X}_l} \\} $$"
   ]
  },
  {
   "cell_type": "markdown",
   "metadata": {},
   "source": [
    "Now it follows that the conditional mean for the outcome and control in a particular partition $\\mathcal{X}_l$ is defined as:"
   ]
  },
  {
   "cell_type": "markdown",
   "metadata": {},
   "source": [
    "$$ \\hat{\\mu}_t(S_l) = \\frac{1}{N_{l_t}} \\sum_{T_i=t, i \\in S_l}^{} Y_i $$"
   ]
  },
  {
   "cell_type": "markdown",
   "metadata": {},
   "source": [
    "where  $t \\in {0,1} : \\hat{\\mu}_1, \\hat{\\mu}_2 $ are the conditional means. Capital N is indexed by the partition's treatment and control group. With this information we can find the average causal effect (ACE) for a given partitiond defined by:"
   ]
  },
  {
   "cell_type": "markdown",
   "metadata": {},
   "source": [
    "$$ \\hat{\\tau}(S_l) = \\hat{\\mu}_1(S_l) - \\hat{\\mu}_0(S_l) $$"
   ]
  },
  {
   "cell_type": "markdown",
   "metadata": {},
   "source": [
    "We can use trees for heterogeneous treatment effect estimation by representing each partition by a tree. Trees are built greedily to maximise F, a partition measure that measures the average causal effect for the given partition. For example, if we want to split a particular node, the algorith will split in such a way as to maximise \"F\" on its children.\n",
    "\n",
    "It can be beneficial to add a penalty to the splitting criteria. This is called the \"honest\" approach (CT-H)."
   ]
  }
 ],
 "metadata": {
  "kernelspec": {
   "display_name": "Python 3",
   "language": "python",
   "name": "python3"
  },
  "language_info": {
   "codemirror_mode": {
    "name": "ipython",
    "version": 3
   },
   "file_extension": ".py",
   "mimetype": "text/x-python",
   "name": "python",
   "nbconvert_exporter": "python",
   "pygments_lexer": "ipython3",
   "version": "3.7.1"
  }
 },
 "nbformat": 4,
 "nbformat_minor": 2
}

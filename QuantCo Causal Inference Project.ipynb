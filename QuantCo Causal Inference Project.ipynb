{
 "cells": [
  {
   "cell_type": "markdown",
   "metadata": {},
   "source": [
    "### $\\textbf{QuantCo Causal Inference Project}$\n",
    "$\\textit{Wian Stipp}$\n",
    "\n",
    "$ \\\\ $\n",
    "\n",
    "$\\cdot{ \\ \\textbf{Describing The Problem:} \\ \\text{We are using a study to compare the quality of services provided by two physician groups for asthma patients} \\\\ \\text{in California. Let $Y_i(z)$ be the score (1 = satisfactory, 0 = non-satisfactory) given by patient $i$ for the treatment recieved by physician} \\\\ \\text{ group $z \\in \\{1,2\\}$}}$ \\\\\n",
    "\n",
    "$\\text{Besides the treatment variable and the outcome variable we have a list of covariates: 'age', 'sex', 'education', 'insurance', } \\\\ \\text{'drug coverage', 'severity','comorbidity', 'physical comorbidity', 'mental comorbidity'}$ \\\\\n",
    "\n",
    "$\\text{Comorbidity is defined as: the presence of one or more additional conditions co-occurring with a primary condition; in the countable} \\\\ \\text{sense of the term, a comorbidity is each additional condition. The additional condition may also be a behavioral or mental disorder.}$\n",
    "\n",
    "$\\text{We assume the treatment assignment is ignorable conditional on all the pretreatment variables}$\n",
    "\n",
    "$\\cdot{ \\ \\textbf{The Objective:} \\ \\text{We are using a study to compare the quality of services provided by two physician groups for asthma patients in California.} \\\\ \\text{ Our objective is to find the average treatment (causal) effect of each physician compared to the other. That is if $p_z$ is} \\\\ \\text{the fraction of patients that would be satisfied with the service of $z$ if all patients were treated by the same, then we want to find $p_1 - p_2$.}}$\n",
    "\n",
    "$\\text{There is, however, a more interesting insight we can find; We can find which types of people would be more satisified with each of the physician} \\\\ \\text{groups. This is a problem known as} \\ \\textit{heterogeneous treatment effect estimation}.$\n",
    "$\\text{In this project, we will explore how a causal tree-based learning method can find heterogeneity in the treatment effects.}$"
   ]
  },
  {
   "cell_type": "code",
   "execution_count": null,
   "metadata": {},
   "outputs": [],
   "source": []
  }
 ],
 "metadata": {
  "kernelspec": {
   "display_name": "Python 3",
   "language": "python",
   "name": "python3"
  },
  "language_info": {
   "codemirror_mode": {
    "name": "ipython",
    "version": 3
   },
   "file_extension": ".py",
   "mimetype": "text/x-python",
   "name": "python",
   "nbconvert_exporter": "python",
   "pygments_lexer": "ipython3",
   "version": "3.7.1"
  }
 },
 "nbformat": 4,
 "nbformat_minor": 2
}
